{
  "nbformat": 4,
  "nbformat_minor": 0,
  "metadata": {
    "colab": {
      "provenance": [],
      "toc_visible": true,
      "gpuType": "T4"
    },
    "kernelspec": {
      "name": "python3",
      "display_name": "Python 3"
    },
    "language_info": {
      "name": "python"
    },
    "accelerator": "GPU"
  },
  "cells": [
    {
      "cell_type": "code",
      "source": [
        "import torch\n",
        "import pandas as pd\n",
        "import numpy as np\n",
        "import matplotlib.pyplot as plt\n",
        "\n",
        "\n",
        "print(torch.__version__)"
      ],
      "metadata": {
        "colab": {
          "base_uri": "https://localhost:8080/"
        },
        "id": "myMqYC3kToZh",
        "outputId": "bacd25e0-77e8-425a-e516-cf16a9d8f2e3"
      },
      "execution_count": 3,
      "outputs": [
        {
          "output_type": "stream",
          "name": "stdout",
          "text": [
            "2.6.0+cu124\n"
          ]
        }
      ]
    },
    {
      "cell_type": "markdown",
      "source": [
        "## Introduction to Tensors"
      ],
      "metadata": {
        "id": "xUhyciR1c7Hl"
      }
    },
    {
      "cell_type": "code",
      "source": [
        "scalar= torch.tensor(7)"
      ],
      "metadata": {
        "id": "W4zTy2q6jZV8"
      },
      "execution_count": 4,
      "outputs": []
    },
    {
      "cell_type": "code",
      "source": [
        "scalar"
      ],
      "metadata": {
        "colab": {
          "base_uri": "https://localhost:8080/"
        },
        "id": "t74VzOppXfFK",
        "outputId": "86f04f9c-2d46-46e8-c5ee-c20853303e62"
      },
      "execution_count": 5,
      "outputs": [
        {
          "output_type": "execute_result",
          "data": {
            "text/plain": [
              "tensor(7)"
            ]
          },
          "metadata": {},
          "execution_count": 5
        }
      ]
    },
    {
      "cell_type": "code",
      "source": [
        "scalar.ndim"
      ],
      "metadata": {
        "colab": {
          "base_uri": "https://localhost:8080/"
        },
        "id": "5zg6Unc_XhCZ",
        "outputId": "32cb4095-43c5-4057-e728-dfb340113338"
      },
      "execution_count": 6,
      "outputs": [
        {
          "output_type": "execute_result",
          "data": {
            "text/plain": [
              "0"
            ]
          },
          "metadata": {},
          "execution_count": 6
        }
      ]
    },
    {
      "cell_type": "markdown",
      "source": [
        "only for scalar does item work"
      ],
      "metadata": {
        "id": "DwJO_PHgqZNH"
      }
    },
    {
      "cell_type": "code",
      "source": [
        "scalar.item()"
      ],
      "metadata": {
        "colab": {
          "base_uri": "https://localhost:8080/"
        },
        "id": "WJxampT0XjLj",
        "outputId": "33919404-9094-4fc1-dc58-7a8e3623596c"
      },
      "execution_count": 7,
      "outputs": [
        {
          "output_type": "execute_result",
          "data": {
            "text/plain": [
              "7"
            ]
          },
          "metadata": {},
          "execution_count": 7
        }
      ]
    },
    {
      "cell_type": "code",
      "source": [
        "vector = torch.tensor([7,6])"
      ],
      "metadata": {
        "id": "_ao63bABXlrs"
      },
      "execution_count": 8,
      "outputs": []
    },
    {
      "cell_type": "code",
      "source": [
        "vector"
      ],
      "metadata": {
        "colab": {
          "base_uri": "https://localhost:8080/"
        },
        "id": "HPgXIWf_Xr0q",
        "outputId": "96912a15-2af4-46f5-ae2b-aa8fa881f28b"
      },
      "execution_count": 9,
      "outputs": [
        {
          "output_type": "execute_result",
          "data": {
            "text/plain": [
              "tensor([7, 6])"
            ]
          },
          "metadata": {},
          "execution_count": 9
        }
      ]
    },
    {
      "cell_type": "markdown",
      "source": [
        "how many square bracket is the dimension of tensor"
      ],
      "metadata": {
        "id": "Wdra1tY1qgWc"
      }
    },
    {
      "cell_type": "code",
      "source": [
        "vector.ndim"
      ],
      "metadata": {
        "colab": {
          "base_uri": "https://localhost:8080/"
        },
        "id": "gQ5VFlzPXszM",
        "outputId": "9a4c3e27-6c93-4b9f-dc2e-b54e4f2572bf"
      },
      "execution_count": 10,
      "outputs": [
        {
          "output_type": "execute_result",
          "data": {
            "text/plain": [
              "1"
            ]
          },
          "metadata": {},
          "execution_count": 10
        }
      ]
    },
    {
      "cell_type": "markdown",
      "source": [],
      "metadata": {
        "id": "uEezJ5Ykqp8b"
      }
    },
    {
      "cell_type": "code",
      "source": [
        "vector.shape"
      ],
      "metadata": {
        "colab": {
          "base_uri": "https://localhost:8080/"
        },
        "id": "aVIXoThJYP47",
        "outputId": "2450f551-a40b-4459-ed4a-ff18e86d692d"
      },
      "execution_count": 11,
      "outputs": [
        {
          "output_type": "execute_result",
          "data": {
            "text/plain": [
              "torch.Size([2])"
            ]
          },
          "metadata": {},
          "execution_count": 11
        }
      ]
    },
    {
      "cell_type": "code",
      "source": [
        "vector[1]"
      ],
      "metadata": {
        "colab": {
          "base_uri": "https://localhost:8080/"
        },
        "id": "xDfW_HWiYavV",
        "outputId": "9ecdf729-7aa4-46a9-abf9-5cabe06476ef"
      },
      "execution_count": 12,
      "outputs": [
        {
          "output_type": "execute_result",
          "data": {
            "text/plain": [
              "tensor(6)"
            ]
          },
          "metadata": {},
          "execution_count": 12
        }
      ]
    },
    {
      "cell_type": "code",
      "source": [
        "#TENSORS\n",
        "#this is shape\n",
        "TENSOR = torch.tensor([[[1,2],[4,5],[7,8]]])\n",
        "#torch.Size([1, 3, 2])\n",
        "#[[[1,2],[4,5],[7,8]]]<-----this bracket has 1 element\n",
        "#[[1,2],[4,5],[7,8]]<----- this bracket has 3 elements\n",
        "#all the elements inside the last bracket has 2 elements"
      ],
      "metadata": {
        "id": "woV5VDc4Y6IN"
      },
      "execution_count": 13,
      "outputs": []
    },
    {
      "cell_type": "code",
      "source": [
        "TENSOR"
      ],
      "metadata": {
        "colab": {
          "base_uri": "https://localhost:8080/"
        },
        "id": "ReGo8ZLXaI1c",
        "outputId": "a470ff43-c731-4d4f-b221-5f8d90e56605"
      },
      "execution_count": 14,
      "outputs": [
        {
          "output_type": "execute_result",
          "data": {
            "text/plain": [
              "tensor([[[1, 2],\n",
              "         [4, 5],\n",
              "         [7, 8]]])"
            ]
          },
          "metadata": {},
          "execution_count": 14
        }
      ]
    },
    {
      "cell_type": "code",
      "source": [
        "TENSOR.shape"
      ],
      "metadata": {
        "colab": {
          "base_uri": "https://localhost:8080/"
        },
        "id": "Q8ihtc91bAP1",
        "outputId": "bf258db9-364f-4f01-8e89-634a00798462"
      },
      "execution_count": 15,
      "outputs": [
        {
          "output_type": "execute_result",
          "data": {
            "text/plain": [
              "torch.Size([1, 3, 2])"
            ]
          },
          "metadata": {},
          "execution_count": 15
        }
      ]
    },
    {
      "cell_type": "code",
      "source": [
        "TENSOR.ndim"
      ],
      "metadata": {
        "colab": {
          "base_uri": "https://localhost:8080/"
        },
        "id": "maYhj236auaj",
        "outputId": "6e702ee8-1201-4a8e-94ea-edabeee6fb1a"
      },
      "execution_count": 16,
      "outputs": [
        {
          "output_type": "execute_result",
          "data": {
            "text/plain": [
              "3"
            ]
          },
          "metadata": {},
          "execution_count": 16
        }
      ]
    },
    {
      "cell_type": "markdown",
      "source": [
        "RANDOM TENSORS\n"
      ],
      "metadata": {
        "id": "B9zmsta2ka6S"
      }
    },
    {
      "cell_type": "code",
      "source": [
        " random_tensor= torch.rand(1,3,2)\n",
        " random_tensor"
      ],
      "metadata": {
        "colab": {
          "base_uri": "https://localhost:8080/"
        },
        "id": "d_tTwyFwkd7k",
        "outputId": "db5dbe50-8c4a-4528-9773-387a4eea1b33"
      },
      "execution_count": 17,
      "outputs": [
        {
          "output_type": "execute_result",
          "data": {
            "text/plain": [
              "tensor([[[0.5758, 0.6129],\n",
              "         [0.0482, 0.7223],\n",
              "         [0.5394, 0.4779]]])"
            ]
          },
          "metadata": {},
          "execution_count": 17
        }
      ]
    },
    {
      "cell_type": "code",
      "source": [
        "random_image_size_tensor= torch.rand(size=(3,224,224))\n",
        "random_image_size_tensor.shape,random_image_size_tensor.ndim"
      ],
      "metadata": {
        "colab": {
          "base_uri": "https://localhost:8080/"
        },
        "id": "coSCQ6ouqCJV",
        "outputId": "976fd143-03b8-4323-970c-d7b60cb0cbb6"
      },
      "execution_count": 18,
      "outputs": [
        {
          "output_type": "execute_result",
          "data": {
            "text/plain": [
              "(torch.Size([3, 224, 224]), 3)"
            ]
          },
          "metadata": {},
          "execution_count": 18
        }
      ]
    },
    {
      "cell_type": "markdown",
      "source": [
        "Tensors of 0 and 1s"
      ],
      "metadata": {
        "id": "BlL3NBJNrzOb"
      }
    },
    {
      "cell_type": "code",
      "source": [
        "zero = torch.zeros(size=(3,4))\n",
        "zero"
      ],
      "metadata": {
        "colab": {
          "base_uri": "https://localhost:8080/"
        },
        "id": "nvrD1RWEqTPW",
        "outputId": "040d683f-c799-4c97-d19c-9d16ef1bf514"
      },
      "execution_count": 19,
      "outputs": [
        {
          "output_type": "execute_result",
          "data": {
            "text/plain": [
              "tensor([[0., 0., 0., 0.],\n",
              "        [0., 0., 0., 0.],\n",
              "        [0., 0., 0., 0.]])"
            ]
          },
          "metadata": {},
          "execution_count": 19
        }
      ]
    },
    {
      "cell_type": "code",
      "source": [
        "ones = torch.ones(3,4)"
      ],
      "metadata": {
        "id": "VzfZxH_0r_2n"
      },
      "execution_count": 20,
      "outputs": []
    },
    {
      "cell_type": "code",
      "source": [
        "ones"
      ],
      "metadata": {
        "colab": {
          "base_uri": "https://localhost:8080/"
        },
        "id": "CbtAk-5TsRbh",
        "outputId": "bbba0652-21c8-400f-ed8f-57119d0ef984"
      },
      "execution_count": 21,
      "outputs": [
        {
          "output_type": "execute_result",
          "data": {
            "text/plain": [
              "tensor([[1., 1., 1., 1.],\n",
              "        [1., 1., 1., 1.],\n",
              "        [1., 1., 1., 1.]])"
            ]
          },
          "metadata": {},
          "execution_count": 21
        }
      ]
    },
    {
      "cell_type": "code",
      "source": [
        "ones.dtype"
      ],
      "metadata": {
        "colab": {
          "base_uri": "https://localhost:8080/"
        },
        "id": "6TqlZ5FosTsU",
        "outputId": "fa7ca1f7-9b37-459b-b440-abd20ff82c9c"
      },
      "execution_count": 22,
      "outputs": [
        {
          "output_type": "execute_result",
          "data": {
            "text/plain": [
              "torch.float32"
            ]
          },
          "metadata": {},
          "execution_count": 22
        }
      ]
    },
    {
      "cell_type": "markdown",
      "source": [
        "Creating a range of tensore and tensors like"
      ],
      "metadata": {
        "id": "hAZgitqLszdJ"
      }
    },
    {
      "cell_type": "code",
      "source": [
        "torch.arange(0,10)"
      ],
      "metadata": {
        "colab": {
          "base_uri": "https://localhost:8080/"
        },
        "id": "vMKzow0Us5OW",
        "outputId": "8c37864f-d723-4efc-ce3e-eab5242667b9"
      },
      "execution_count": 23,
      "outputs": [
        {
          "output_type": "execute_result",
          "data": {
            "text/plain": [
              "tensor([0, 1, 2, 3, 4, 5, 6, 7, 8, 9])"
            ]
          },
          "metadata": {},
          "execution_count": 23
        }
      ]
    },
    {
      "cell_type": "code",
      "source": [
        "range = torch.arange(0,100,10)"
      ],
      "metadata": {
        "id": "4acx63CvtIwN"
      },
      "execution_count": 24,
      "outputs": []
    },
    {
      "cell_type": "code",
      "source": [
        "range"
      ],
      "metadata": {
        "colab": {
          "base_uri": "https://localhost:8080/"
        },
        "id": "xH5TGpRbth9i",
        "outputId": "b96327bf-b885-46e0-e527-c5231b2e88e0"
      },
      "execution_count": 25,
      "outputs": [
        {
          "output_type": "execute_result",
          "data": {
            "text/plain": [
              "tensor([ 0, 10, 20, 30, 40, 50, 60, 70, 80, 90])"
            ]
          },
          "metadata": {},
          "execution_count": 25
        }
      ]
    },
    {
      "cell_type": "code",
      "source": [
        "#tensor like\n",
        "ten_zeroes = torch.zeros_like(range)"
      ],
      "metadata": {
        "id": "5PSeExSPtitu"
      },
      "execution_count": 26,
      "outputs": []
    },
    {
      "cell_type": "code",
      "source": [
        "ten_zeroes"
      ],
      "metadata": {
        "colab": {
          "base_uri": "https://localhost:8080/"
        },
        "id": "hMBwKdMxtuOR",
        "outputId": "cdc1a0dc-d5e5-485f-b52a-ff549e6982d7"
      },
      "execution_count": 27,
      "outputs": [
        {
          "output_type": "execute_result",
          "data": {
            "text/plain": [
              "tensor([0, 0, 0, 0, 0, 0, 0, 0, 0, 0])"
            ]
          },
          "metadata": {},
          "execution_count": 27
        }
      ]
    },
    {
      "cell_type": "markdown",
      "source": [
        "Tensor data types\n",
        "\n",
        "\n",
        "Note: Tensor datatypes are one of 3 big issues we run into in pytorch and data science\n",
        "\n",
        "1.Tensor not right datatype\n",
        "\n",
        "2.Tensor not right shape\n",
        "\n",
        "3.Tensor not on the right device"
      ],
      "metadata": {
        "id": "87lu2bkcEutC"
      }
    },
    {
      "cell_type": "code",
      "source": [
        "float_tensor = torch.tensor([3,6,9],\n",
        "                            dtype=None,#data type in tensor\n",
        "                            device=None,#device tensor is on, diffrent tensor in different device cause issue\n",
        "                            requires_grad=False)#whether or not to track gradients with this tensors operation"
      ],
      "metadata": {
        "id": "9VDNZ8TJEzN0"
      },
      "execution_count": 28,
      "outputs": []
    },
    {
      "cell_type": "code",
      "source": [
        "float"
      ],
      "metadata": {
        "colab": {
          "base_uri": "https://localhost:8080/"
        },
        "id": "H_8ZuBFDH70q",
        "outputId": "0aef460b-81bc-414c-9fb0-bfffe3865661"
      },
      "execution_count": 29,
      "outputs": [
        {
          "output_type": "execute_result",
          "data": {
            "text/plain": [
              "float"
            ]
          },
          "metadata": {},
          "execution_count": 29
        }
      ]
    },
    {
      "cell_type": "code",
      "source": [
        "float_tensor"
      ],
      "metadata": {
        "colab": {
          "base_uri": "https://localhost:8080/"
        },
        "id": "6TuhEQ7KH8-x",
        "outputId": "cbb2426e-f986-45bf-8aa0-cf7fc857d6d3"
      },
      "execution_count": 30,
      "outputs": [
        {
          "output_type": "execute_result",
          "data": {
            "text/plain": [
              "tensor([3, 6, 9])"
            ]
          },
          "metadata": {},
          "execution_count": 30
        }
      ]
    },
    {
      "cell_type": "code",
      "source": [
        "float_16_tensor = float_tensor.type(torch.float16)"
      ],
      "metadata": {
        "id": "VUOJGmXeH91H"
      },
      "execution_count": 31,
      "outputs": []
    },
    {
      "cell_type": "code",
      "source": [
        "float_16_tensor"
      ],
      "metadata": {
        "colab": {
          "base_uri": "https://localhost:8080/"
        },
        "id": "Qb0ZjrknLx-D",
        "outputId": "853ace00-5591-4686-b199-6804c6e16c5a"
      },
      "execution_count": 32,
      "outputs": [
        {
          "output_type": "execute_result",
          "data": {
            "text/plain": [
              "tensor([3., 6., 9.], dtype=torch.float16)"
            ]
          },
          "metadata": {},
          "execution_count": 32
        }
      ]
    },
    {
      "cell_type": "code",
      "source": [
        "float_16_tensor*float_tensor"
      ],
      "metadata": {
        "colab": {
          "base_uri": "https://localhost:8080/"
        },
        "id": "Gl_bgyo0L0EV",
        "outputId": "4968d37b-a932-466d-e1f6-28b40c716e0a"
      },
      "execution_count": 33,
      "outputs": [
        {
          "output_type": "execute_result",
          "data": {
            "text/plain": [
              "tensor([ 9., 36., 81.], dtype=torch.float16)"
            ]
          },
          "metadata": {},
          "execution_count": 33
        }
      ]
    },
    {
      "cell_type": "markdown",
      "source": [
        "Lesson 2"
      ],
      "metadata": {
        "id": "Ks_ladC0fzd4"
      }
    },
    {
      "cell_type": "code",
      "source": [
        "int_32_tensor = torch.tensor([3,6,9],dtype=torch.int32)"
      ],
      "metadata": {
        "id": "AExrFXcIRkFB"
      },
      "execution_count": 34,
      "outputs": []
    },
    {
      "cell_type": "code",
      "source": [
        "int_32_tensor"
      ],
      "metadata": {
        "colab": {
          "base_uri": "https://localhost:8080/"
        },
        "id": "wJL8LnrxmbBl",
        "outputId": "fcab4a23-f5a3-4348-f683-3c0b9dabc4e4"
      },
      "execution_count": 35,
      "outputs": [
        {
          "output_type": "execute_result",
          "data": {
            "text/plain": [
              "tensor([3, 6, 9], dtype=torch.int32)"
            ]
          },
          "metadata": {},
          "execution_count": 35
        }
      ]
    },
    {
      "cell_type": "code",
      "source": [
        "float_tensor*int_32_tensor"
      ],
      "metadata": {
        "colab": {
          "base_uri": "https://localhost:8080/"
        },
        "id": "YxFu_Sl8mpBU",
        "outputId": "4997487d-8200-4155-f9cb-98f219dcae06"
      },
      "execution_count": 36,
      "outputs": [
        {
          "output_type": "execute_result",
          "data": {
            "text/plain": [
              "tensor([ 9, 36, 81])"
            ]
          },
          "metadata": {},
          "execution_count": 36
        }
      ]
    },
    {
      "cell_type": "markdown",
      "source": [
        "Getting information from tensors\n",
        "\n",
        "1.Tensor not right datatype- to get datatype from a tensor, use tensor.dtype\n",
        "\n",
        "2.Tensor not right shape- to get shape, use tensor.shape\n",
        "\n",
        "3.Tensor not on the right device- to get device from a tensor, use tensor.device"
      ],
      "metadata": {
        "id": "Oo_HOykbn1p_"
      }
    },
    {
      "cell_type": "code",
      "source": [
        "some_tensor = torch.rand(3,4)"
      ],
      "metadata": {
        "id": "FpfOcp3tn2eh"
      },
      "execution_count": 37,
      "outputs": []
    },
    {
      "cell_type": "code",
      "source": [
        "some_tensor"
      ],
      "metadata": {
        "colab": {
          "base_uri": "https://localhost:8080/"
        },
        "id": "Y3F8phcZqOgR",
        "outputId": "fa7b2c21-7322-47c0-bb24-b3c436da8b95"
      },
      "execution_count": 38,
      "outputs": [
        {
          "output_type": "execute_result",
          "data": {
            "text/plain": [
              "tensor([[0.1426, 0.7080, 0.6202, 0.6515],\n",
              "        [0.3950, 0.2464, 0.0304, 0.2241],\n",
              "        [0.3820, 0.4530, 0.0938, 0.3383]])"
            ]
          },
          "metadata": {},
          "execution_count": 38
        }
      ]
    },
    {
      "cell_type": "markdown",
      "source": [
        "Finding out details about the tensors"
      ],
      "metadata": {
        "id": "HqBWltqaqVY_"
      }
    },
    {
      "cell_type": "code",
      "source": [
        "some_tensor.dtype"
      ],
      "metadata": {
        "colab": {
          "base_uri": "https://localhost:8080/"
        },
        "id": "OfUjds5AqPpB",
        "outputId": "7a436280-b496-4dbe-fc9e-3a541e5d7f59"
      },
      "execution_count": 39,
      "outputs": [
        {
          "output_type": "execute_result",
          "data": {
            "text/plain": [
              "torch.float32"
            ]
          },
          "metadata": {},
          "execution_count": 39
        }
      ]
    },
    {
      "cell_type": "code",
      "source": [
        "some_tensor.shape"
      ],
      "metadata": {
        "colab": {
          "base_uri": "https://localhost:8080/"
        },
        "id": "p2-r4SDVrOiO",
        "outputId": "8f2b4142-5a93-4e1e-bbfd-3688e63a5bab"
      },
      "execution_count": 40,
      "outputs": [
        {
          "output_type": "execute_result",
          "data": {
            "text/plain": [
              "torch.Size([3, 4])"
            ]
          },
          "metadata": {},
          "execution_count": 40
        }
      ]
    },
    {
      "cell_type": "code",
      "source": [
        "some_tensor.device"
      ],
      "metadata": {
        "colab": {
          "base_uri": "https://localhost:8080/"
        },
        "id": "01ckFwAErQcY",
        "outputId": "d7eb8d03-e965-4436-cc4c-dd9ceac0b994"
      },
      "execution_count": 41,
      "outputs": [
        {
          "output_type": "execute_result",
          "data": {
            "text/plain": [
              "device(type='cpu')"
            ]
          },
          "metadata": {},
          "execution_count": 41
        }
      ]
    },
    {
      "cell_type": "markdown",
      "source": [
        "Manipulation Tensors (Tensor operations)\n",
        "\n",
        "Tensor operations include:\n",
        "\n",
        "1. Addition\n",
        "\n",
        "2. Subtraction\n",
        "\n",
        "3. Multiplication (element wise)\n",
        "\n",
        "4. Division\n",
        "\n",
        "5. Matrix multiplication"
      ],
      "metadata": {
        "id": "I82DjK8Sr29l"
      }
    },
    {
      "cell_type": "code",
      "source": [
        "new_tensor= torch.tensor([1,2,3])\n",
        "new_tensor+10"
      ],
      "metadata": {
        "colab": {
          "base_uri": "https://localhost:8080/"
        },
        "id": "KuG6ee9ytUUs",
        "outputId": "0dfb72a2-e97e-4804-de10-97b9c62c62f0"
      },
      "execution_count": 42,
      "outputs": [
        {
          "output_type": "execute_result",
          "data": {
            "text/plain": [
              "tensor([11, 12, 13])"
            ]
          },
          "metadata": {},
          "execution_count": 42
        }
      ]
    },
    {
      "cell_type": "code",
      "source": [
        "new_tensor*10"
      ],
      "metadata": {
        "colab": {
          "base_uri": "https://localhost:8080/"
        },
        "id": "vJqC0ZErwZsy",
        "outputId": "be356256-7275-45be-f341-d770cd4415e0"
      },
      "execution_count": 43,
      "outputs": [
        {
          "output_type": "execute_result",
          "data": {
            "text/plain": [
              "tensor([10, 20, 30])"
            ]
          },
          "metadata": {},
          "execution_count": 43
        }
      ]
    },
    {
      "cell_type": "code",
      "source": [
        "new_tensor-10"
      ],
      "metadata": {
        "colab": {
          "base_uri": "https://localhost:8080/"
        },
        "id": "o_6GFQlhwgfP",
        "outputId": "d93dce0e-c06c-4b5c-e199-cdc4ceaa2150"
      },
      "execution_count": 44,
      "outputs": [
        {
          "output_type": "execute_result",
          "data": {
            "text/plain": [
              "tensor([-9, -8, -7])"
            ]
          },
          "metadata": {},
          "execution_count": 44
        }
      ]
    },
    {
      "cell_type": "code",
      "source": [
        " #in built multipy function\n",
        " torch.mul(new_tensor,10)"
      ],
      "metadata": {
        "colab": {
          "base_uri": "https://localhost:8080/"
        },
        "id": "ChAWHH1pwwov",
        "outputId": "377235a2-1939-41bd-ac18-c0ed6872ed13"
      },
      "execution_count": 45,
      "outputs": [
        {
          "output_type": "execute_result",
          "data": {
            "text/plain": [
              "tensor([10, 20, 30])"
            ]
          },
          "metadata": {},
          "execution_count": 45
        }
      ]
    },
    {
      "cell_type": "code",
      "source": [
        "torch.add(new_tensor,10)"
      ],
      "metadata": {
        "colab": {
          "base_uri": "https://localhost:8080/"
        },
        "id": "Ew-IeyJTxyDl",
        "outputId": "a7557b0e-09f5-4c4b-d41e-8add70d88678"
      },
      "execution_count": 46,
      "outputs": [
        {
          "output_type": "execute_result",
          "data": {
            "text/plain": [
              "tensor([11, 12, 13])"
            ]
          },
          "metadata": {},
          "execution_count": 46
        }
      ]
    },
    {
      "cell_type": "markdown",
      "source": [
        "2 main ways of performing multiplication in neural network and deep learning\n",
        "\n",
        "1. Element wise multiplication\n",
        "\n",
        "2. Matrix multiplication\n",
        "\n",
        "There are two main rules that performing matrix mutliplication needs to satisfy:\n",
        "\n",
        "1. The inner dimensions must match\n",
        "\n",
        "  * (3,2) @ (2,3) wont work\n",
        "\n",
        "  * (2,3) @ (3,2) will work\n",
        "\n",
        "  * (3,2) @ (2,3) will work\n",
        "\n",
        "2. The resulting matrix have the shape of the outer matrix\n",
        "\n",
        "\n",
        "\n"
      ],
      "metadata": {
        "id": "x2k7f6BIngJQ"
      }
    },
    {
      "cell_type": "code",
      "source": [
        "#Element wise multiplication\n",
        "tensor = torch.tensor([2,3,4])\n",
        "tensor"
      ],
      "metadata": {
        "colab": {
          "base_uri": "https://localhost:8080/"
        },
        "id": "6IhqB4JMnlXd",
        "outputId": "63273044-78c1-4791-cf5d-de035a4359ed"
      },
      "execution_count": 47,
      "outputs": [
        {
          "output_type": "execute_result",
          "data": {
            "text/plain": [
              "tensor([2, 3, 4])"
            ]
          },
          "metadata": {},
          "execution_count": 47
        }
      ]
    },
    {
      "cell_type": "code",
      "source": [
        "element_wise_multiplicaton = tensor*tensor\n",
        "element_wise_multiplicaton"
      ],
      "metadata": {
        "colab": {
          "base_uri": "https://localhost:8080/"
        },
        "id": "25ssXwglpGqT",
        "outputId": "77047a01-0328-4cf7-c241-51fd66f09e44"
      },
      "execution_count": 48,
      "outputs": [
        {
          "output_type": "execute_result",
          "data": {
            "text/plain": [
              "tensor([ 4,  9, 16])"
            ]
          },
          "metadata": {},
          "execution_count": 48
        }
      ]
    },
    {
      "cell_type": "code",
      "source": [
        "matrix_wise_multiplication = torch.matmul(tensor,tensor)\n",
        "matrix_wise_multiplication"
      ],
      "metadata": {
        "colab": {
          "base_uri": "https://localhost:8080/"
        },
        "id": "huUwy32QqHTy",
        "outputId": "50c07142-3327-44d5-bdfc-17125f0a9e87"
      },
      "execution_count": 49,
      "outputs": [
        {
          "output_type": "execute_result",
          "data": {
            "text/plain": [
              "tensor(29)"
            ]
          },
          "metadata": {},
          "execution_count": 49
        }
      ]
    },
    {
      "cell_type": "code",
      "source": [
        "new_matrix= torch.mm(torch.rand(2,3),torch.rand(3,4)) #mm is same as matmul"
      ],
      "metadata": {
        "id": "Pvch3Qn_z032"
      },
      "execution_count": 50,
      "outputs": []
    },
    {
      "cell_type": "code",
      "source": [
        "new_matrix"
      ],
      "metadata": {
        "colab": {
          "base_uri": "https://localhost:8080/"
        },
        "id": "JKq4zFI20Eju",
        "outputId": "035c9841-44e7-4ad2-c82b-17864ddd93b2"
      },
      "execution_count": 51,
      "outputs": [
        {
          "output_type": "execute_result",
          "data": {
            "text/plain": [
              "tensor([[0.3257, 1.0874, 0.5414, 0.9458],\n",
              "        [0.6837, 0.9348, 0.6819, 0.8981]])"
            ]
          },
          "metadata": {},
          "execution_count": 51
        }
      ]
    },
    {
      "cell_type": "markdown",
      "source": [
        "One of the most common errors in deep learning: Shape errors\n",
        "\n",
        "To fix the tensor shape issues, we can manipulate the shape of one of our tensors using a transpose\n",
        "\n"
      ],
      "metadata": {
        "id": "Lek_vR_W0c4s"
      }
    },
    {
      "cell_type": "code",
      "source": [
        "tensor_A = torch.rand(3,4)\n",
        "tensor_A,tensor_A.shape"
      ],
      "metadata": {
        "colab": {
          "base_uri": "https://localhost:8080/"
        },
        "id": "D61jAaw_0hkL",
        "outputId": "1935f31f-680a-4d2b-8956-6c98deaf6a20"
      },
      "execution_count": 52,
      "outputs": [
        {
          "output_type": "execute_result",
          "data": {
            "text/plain": [
              "(tensor([[0.7572, 0.9554, 0.6812, 0.0398],\n",
              "         [0.8546, 0.0842, 0.7372, 0.7448],\n",
              "         [0.5546, 0.0226, 0.6011, 0.6970]]),\n",
              " torch.Size([3, 4]))"
            ]
          },
          "metadata": {},
          "execution_count": 52
        }
      ]
    },
    {
      "cell_type": "code",
      "source": [
        "tensor_A.T,tensor_A.T.shape"
      ],
      "metadata": {
        "colab": {
          "base_uri": "https://localhost:8080/"
        },
        "id": "QbxQKrKp_mcB",
        "outputId": "051d262d-9f8c-477e-cf3e-8196d35b031d"
      },
      "execution_count": 53,
      "outputs": [
        {
          "output_type": "execute_result",
          "data": {
            "text/plain": [
              "(tensor([[0.7572, 0.8546, 0.5546],\n",
              "         [0.9554, 0.0842, 0.0226],\n",
              "         [0.6812, 0.7372, 0.6011],\n",
              "         [0.0398, 0.7448, 0.6970]]),\n",
              " torch.Size([4, 3]))"
            ]
          },
          "metadata": {},
          "execution_count": 53
        }
      ]
    },
    {
      "cell_type": "markdown",
      "source": [
        "LESSON 3"
      ],
      "metadata": {
        "id": "SyyQgN9fG4Qg"
      }
    },
    {
      "cell_type": "markdown",
      "source": [
        "TENSOR AGGREGATION\n",
        "\n",
        "Finding the min, max, mean, sum,etc"
      ],
      "metadata": {
        "id": "w1oXp2HqGj2B"
      }
    },
    {
      "cell_type": "code",
      "source": [
        "x = torch.arange(0,100,9)\n",
        "x"
      ],
      "metadata": {
        "colab": {
          "base_uri": "https://localhost:8080/"
        },
        "id": "h2KifaRQGu99",
        "outputId": "16f01757-df9f-4acb-fe85-63a9060a050d"
      },
      "execution_count": 54,
      "outputs": [
        {
          "output_type": "execute_result",
          "data": {
            "text/plain": [
              "tensor([ 0,  9, 18, 27, 36, 45, 54, 63, 72, 81, 90, 99])"
            ]
          },
          "metadata": {},
          "execution_count": 54
        }
      ]
    },
    {
      "cell_type": "code",
      "source": [
        "#Minimum\n",
        "torch.min(x)"
      ],
      "metadata": {
        "colab": {
          "base_uri": "https://localhost:8080/"
        },
        "id": "3VoNSO3bHLjF",
        "outputId": "79558e26-7cf4-41a8-8107-a2922ac088a1"
      },
      "execution_count": 55,
      "outputs": [
        {
          "output_type": "execute_result",
          "data": {
            "text/plain": [
              "tensor(0)"
            ]
          },
          "metadata": {},
          "execution_count": 55
        }
      ]
    },
    {
      "cell_type": "code",
      "source": [
        "#Max\n",
        "torch.max(x)"
      ],
      "metadata": {
        "colab": {
          "base_uri": "https://localhost:8080/"
        },
        "id": "S-xaxm_ZHX27",
        "outputId": "8bf3945a-b081-40ed-abc1-0bd52af1cdc1"
      },
      "execution_count": 56,
      "outputs": [
        {
          "output_type": "execute_result",
          "data": {
            "text/plain": [
              "tensor(99)"
            ]
          },
          "metadata": {},
          "execution_count": 56
        }
      ]
    },
    {
      "cell_type": "code",
      "source": [
        "#sum\n",
        "torch.sum(x),x.sum()"
      ],
      "metadata": {
        "colab": {
          "base_uri": "https://localhost:8080/"
        },
        "id": "jtZ5OIoaHce1",
        "outputId": "145ae0d7-aadd-4f1d-d805-87462649412a"
      },
      "execution_count": 57,
      "outputs": [
        {
          "output_type": "execute_result",
          "data": {
            "text/plain": [
              "(tensor(594), tensor(594))"
            ]
          },
          "metadata": {},
          "execution_count": 57
        }
      ]
    },
    {
      "cell_type": "code",
      "source": [
        "#mean\n",
        "\n",
        "#input dtype should be either floating point or complex dtypes but not long\n",
        "torch.mean(x.type(torch.float32)),(x.type(torch.float32)).mean()"
      ],
      "metadata": {
        "colab": {
          "base_uri": "https://localhost:8080/"
        },
        "id": "Uw6v_FVHHwJ0",
        "outputId": "c9098126-747b-4ceb-984b-d021e8e5f37d"
      },
      "execution_count": 58,
      "outputs": [
        {
          "output_type": "execute_result",
          "data": {
            "text/plain": [
              "(tensor(49.5000), tensor(49.5000))"
            ]
          },
          "metadata": {},
          "execution_count": 58
        }
      ]
    },
    {
      "cell_type": "markdown",
      "source": [
        "Finding the position of min and max"
      ],
      "metadata": {
        "id": "xKvQD6PJJcr7"
      }
    },
    {
      "cell_type": "code",
      "source": [
        "# position of minimum value\n",
        "x.argmin(),torch.argmin(x)"
      ],
      "metadata": {
        "colab": {
          "base_uri": "https://localhost:8080/"
        },
        "id": "uqnj47cWJ42Q",
        "outputId": "9fd295d3-fc94-468b-d6b6-0e977dee56a8"
      },
      "execution_count": 59,
      "outputs": [
        {
          "output_type": "execute_result",
          "data": {
            "text/plain": [
              "(tensor(0), tensor(0))"
            ]
          },
          "metadata": {},
          "execution_count": 59
        }
      ]
    },
    {
      "cell_type": "code",
      "source": [
        "#position of maximum value\n",
        "x.argmax(),torch.argmax(x)"
      ],
      "metadata": {
        "colab": {
          "base_uri": "https://localhost:8080/"
        },
        "id": "fiM8DyZ3J-mR",
        "outputId": "5b3f7249-3ab6-40bd-9b6b-6ac532562925"
      },
      "execution_count": 60,
      "outputs": [
        {
          "output_type": "execute_result",
          "data": {
            "text/plain": [
              "(tensor(11), tensor(11))"
            ]
          },
          "metadata": {},
          "execution_count": 60
        }
      ]
    },
    {
      "cell_type": "markdown",
      "source": [
        "LESSON 4"
      ],
      "metadata": {
        "id": "UHDlY3-Y-2Id"
      }
    },
    {
      "cell_type": "markdown",
      "source": [
        "Reshaping,viewing, stacking, squeezing, unsqueezing and permuting tensors\n",
        "\n",
        "Reshaping = reshapes an input tensor to a defined shape\n",
        "\n",
        "View = Return a view of input tensor of certain shape but keep the same memory as the original tensor\n",
        "\n",
        "Stacking = combine multiple tensors on top of each other(vstack) or side by side (hstack)\n",
        "\n",
        "Squeeze= removes all `1` dimension from a *tensor*\n",
        "\n",
        "Unsqueeze = add a `1` dimension to a target tensor\n",
        "\n",
        "Permute = return a view of the input with dimensions permuted (swapped) in a certain way"
      ],
      "metadata": {
        "id": "uvD0vL-7_bAK"
      }
    },
    {
      "cell_type": "code",
      "source": [
        "new_variable_x= torch.arange(1,13)\n",
        "new_variable_x"
      ],
      "metadata": {
        "colab": {
          "base_uri": "https://localhost:8080/"
        },
        "id": "Lm_7Otyx_yyQ",
        "outputId": "2feec814-eec4-423e-b132-50d109f1dd2c"
      },
      "execution_count": 61,
      "outputs": [
        {
          "output_type": "execute_result",
          "data": {
            "text/plain": [
              "tensor([ 1,  2,  3,  4,  5,  6,  7,  8,  9, 10, 11, 12])"
            ]
          },
          "metadata": {},
          "execution_count": 61
        }
      ]
    },
    {
      "cell_type": "code",
      "source": [
        "#reshape helps to change the dimension of tensor form certain kind to certain kind\n",
        "\n",
        "new_variable_x.reshape(2,6),new_variable_x.shape"
      ],
      "metadata": {
        "colab": {
          "base_uri": "https://localhost:8080/"
        },
        "id": "lq4Pw27uBSyi",
        "outputId": "9231194e-8d46-4002-8d3c-5d8f1273800a"
      },
      "execution_count": 62,
      "outputs": [
        {
          "output_type": "execute_result",
          "data": {
            "text/plain": [
              "(tensor([[ 1,  2,  3,  4,  5,  6],\n",
              "         [ 7,  8,  9, 10, 11, 12]]),\n",
              " torch.Size([12]))"
            ]
          },
          "metadata": {},
          "execution_count": 62
        }
      ]
    },
    {
      "cell_type": "code",
      "source": [
        "#change the view\n",
        "z= new_variable_x.view(3,4)\n",
        "z,z.shape"
      ],
      "metadata": {
        "colab": {
          "base_uri": "https://localhost:8080/"
        },
        "id": "-KGXLn68CCF6",
        "outputId": "8c44c655-9e38-4d52-b199-5a4c63569d5e"
      },
      "execution_count": 63,
      "outputs": [
        {
          "output_type": "execute_result",
          "data": {
            "text/plain": [
              "(tensor([[ 1,  2,  3,  4],\n",
              "         [ 5,  6,  7,  8],\n",
              "         [ 9, 10, 11, 12]]),\n",
              " torch.Size([3, 4]))"
            ]
          },
          "metadata": {},
          "execution_count": 63
        }
      ]
    },
    {
      "cell_type": "code",
      "source": [
        "#changing z changes new_variable_x because  a view of tensor shares the same memory as the original input\n",
        "z[:,0]=5\n",
        "z,new_variable_x"
      ],
      "metadata": {
        "colab": {
          "base_uri": "https://localhost:8080/"
        },
        "id": "_Hep-JtUDLqG",
        "outputId": "e1bae41a-3243-4069-ca04-98e4552e13d0"
      },
      "execution_count": 64,
      "outputs": [
        {
          "output_type": "execute_result",
          "data": {
            "text/plain": [
              "(tensor([[ 5,  2,  3,  4],\n",
              "         [ 5,  6,  7,  8],\n",
              "         [ 5, 10, 11, 12]]),\n",
              " tensor([ 5,  2,  3,  4,  5,  6,  7,  8,  5, 10, 11, 12]))"
            ]
          },
          "metadata": {},
          "execution_count": 64
        }
      ]
    },
    {
      "cell_type": "code",
      "source": [
        "#Stack tensors on top of each other\n",
        "x_stacked = torch.stack([new_variable_x,new_variable_x,new_variable_x,new_variable_x],dim=1)\n",
        "x_stacked"
      ],
      "metadata": {
        "colab": {
          "base_uri": "https://localhost:8080/"
        },
        "id": "HYIHC8z5D27v",
        "outputId": "04b8be4e-b0f4-4087-fb6f-ba66ab167ea7"
      },
      "execution_count": 65,
      "outputs": [
        {
          "output_type": "execute_result",
          "data": {
            "text/plain": [
              "tensor([[ 5,  5,  5,  5],\n",
              "        [ 2,  2,  2,  2],\n",
              "        [ 3,  3,  3,  3],\n",
              "        [ 4,  4,  4,  4],\n",
              "        [ 5,  5,  5,  5],\n",
              "        [ 6,  6,  6,  6],\n",
              "        [ 7,  7,  7,  7],\n",
              "        [ 8,  8,  8,  8],\n",
              "        [ 5,  5,  5,  5],\n",
              "        [10, 10, 10, 10],\n",
              "        [11, 11, 11, 11],\n",
              "        [12, 12, 12, 12]])"
            ]
          },
          "metadata": {},
          "execution_count": 65
        }
      ]
    },
    {
      "cell_type": "code",
      "source": [
        "#squeeze\n",
        "y= torch.rand(1,1,3)\n",
        "y,y.shape\n",
        "sqz= y.squeeze()\n"
      ],
      "metadata": {
        "id": "rY3uXMIlE5RC"
      },
      "execution_count": 66,
      "outputs": []
    },
    {
      "cell_type": "code",
      "source": [
        "sqz,sqz.shape\n",
        "#all one dimensions removed"
      ],
      "metadata": {
        "colab": {
          "base_uri": "https://localhost:8080/"
        },
        "id": "F4vHcjjqIVED",
        "outputId": "78dd209d-a228-48fb-9ad9-0643c0e91fe2"
      },
      "execution_count": 67,
      "outputs": [
        {
          "output_type": "execute_result",
          "data": {
            "text/plain": [
              "(tensor([0.6784, 0.9464, 0.0499]), torch.Size([3]))"
            ]
          },
          "metadata": {},
          "execution_count": 67
        }
      ]
    },
    {
      "cell_type": "code",
      "source": [
        "#unsqueeze- adds single dimension at specific dim\n",
        "sqz.unsqueeze(0).shape,sqz.unsqueeze(1).shape\n",
        "#at 0th index 1 is added,#at 1th index 1 is added"
      ],
      "metadata": {
        "colab": {
          "base_uri": "https://localhost:8080/"
        },
        "id": "g7l73uCSMuuh",
        "outputId": "b5089ffd-d06b-447f-b23f-2d1047b114e4"
      },
      "execution_count": 68,
      "outputs": [
        {
          "output_type": "execute_result",
          "data": {
            "text/plain": [
              "(torch.Size([1, 3]), torch.Size([3, 1]))"
            ]
          },
          "metadata": {},
          "execution_count": 68
        }
      ]
    },
    {
      "cell_type": "code",
      "source": [
        "#torch.permute\n",
        "#shares the same memory as the variable\n",
        "rand_x = torch.rand(size=(224,224,3))\n",
        "\n",
        "permuted_x = rand_x.permute(2,0,1)\n",
        "\n",
        "print(f\"Previous shape:{rand_x.shape}\")\n",
        "print(f\"New shape:{permuted_x.shape}\")"
      ],
      "metadata": {
        "colab": {
          "base_uri": "https://localhost:8080/"
        },
        "id": "dbDlA_7-OVYH",
        "outputId": "2037cde5-ded3-4cb2-9816-4e17586c9f41"
      },
      "execution_count": 69,
      "outputs": [
        {
          "output_type": "stream",
          "name": "stdout",
          "text": [
            "Previous shape:torch.Size([224, 224, 3])\n",
            "New shape:torch.Size([3, 224, 224])\n"
          ]
        }
      ]
    },
    {
      "cell_type": "code",
      "source": [
        "rand_x[0,0,0] =72818\n",
        "rand_x[0,0,0],permuted_x[0,0,0]"
      ],
      "metadata": {
        "id": "kbkDiPPLPlpM",
        "colab": {
          "base_uri": "https://localhost:8080/"
        },
        "outputId": "6251097b-6d01-47ff-9393-05c81676870b"
      },
      "execution_count": 70,
      "outputs": [
        {
          "output_type": "execute_result",
          "data": {
            "text/plain": [
              "(tensor(72818.), tensor(72818.))"
            ]
          },
          "metadata": {},
          "execution_count": 70
        }
      ]
    },
    {
      "cell_type": "markdown",
      "source": [
        "Indexing(selecting data from tensors)   "
      ],
      "metadata": {
        "id": "XYPbHXpGhSTs"
      }
    },
    {
      "cell_type": "code",
      "source": [
        "#Create a tensor\n",
        "x=torch.arange(1,13).reshape(1,4,3)\n",
        "x,x.shape"
      ],
      "metadata": {
        "colab": {
          "base_uri": "https://localhost:8080/"
        },
        "id": "9lbyHVPmjKDN",
        "outputId": "6facad2b-ca77-48fb-877b-7b46ee55037c"
      },
      "execution_count": 71,
      "outputs": [
        {
          "output_type": "execute_result",
          "data": {
            "text/plain": [
              "(tensor([[[ 1,  2,  3],\n",
              "          [ 4,  5,  6],\n",
              "          [ 7,  8,  9],\n",
              "          [10, 11, 12]]]),\n",
              " torch.Size([1, 4, 3]))"
            ]
          },
          "metadata": {},
          "execution_count": 71
        }
      ]
    },
    {
      "cell_type": "code",
      "source": [
        "x[0][2]"
      ],
      "metadata": {
        "colab": {
          "base_uri": "https://localhost:8080/"
        },
        "id": "OnLIQHNTjbxT",
        "outputId": "5f16603d-b59f-4e7d-c694-fc8ba6a01dc9"
      },
      "execution_count": 72,
      "outputs": [
        {
          "output_type": "execute_result",
          "data": {
            "text/plain": [
              "tensor([7, 8, 9])"
            ]
          },
          "metadata": {},
          "execution_count": 72
        }
      ]
    },
    {
      "cell_type": "code",
      "source": [
        "x[0,2,2]"
      ],
      "metadata": {
        "colab": {
          "base_uri": "https://localhost:8080/"
        },
        "id": "EUoSUAB6kC33",
        "outputId": "c6f6865d-3b61-40ca-b2c1-bb7811266749"
      },
      "execution_count": 73,
      "outputs": [
        {
          "output_type": "execute_result",
          "data": {
            "text/plain": [
              "tensor(9)"
            ]
          },
          "metadata": {},
          "execution_count": 73
        }
      ]
    },
    {
      "cell_type": "code",
      "source": [
        "#getting all values of 0th and 1st dimension but only index 1 of 2nd dimension\n",
        "x[:,:,1]"
      ],
      "metadata": {
        "colab": {
          "base_uri": "https://localhost:8080/"
        },
        "id": "LrZgYpSLktDW",
        "outputId": "58316c85-41e9-472e-bfe7-d4e770e8b2d6"
      },
      "execution_count": 74,
      "outputs": [
        {
          "output_type": "execute_result",
          "data": {
            "text/plain": [
              "tensor([[ 2,  5,  8, 11]])"
            ]
          },
          "metadata": {},
          "execution_count": 74
        }
      ]
    },
    {
      "cell_type": "code",
      "source": [
        "x[:,1,1]"
      ],
      "metadata": {
        "colab": {
          "base_uri": "https://localhost:8080/"
        },
        "id": "2E29ujhLmrdl",
        "outputId": "1bff2b1b-cd11-47d6-f18b-83533c0e3c15"
      },
      "execution_count": 75,
      "outputs": [
        {
          "output_type": "execute_result",
          "data": {
            "text/plain": [
              "tensor([5])"
            ]
          },
          "metadata": {},
          "execution_count": 75
        }
      ]
    },
    {
      "cell_type": "code",
      "source": [
        "x[0,:,2]"
      ],
      "metadata": {
        "colab": {
          "base_uri": "https://localhost:8080/"
        },
        "id": "Vgtv08egnIoI",
        "outputId": "700e0ad8-cbae-49b8-d910-a9c7978dc047"
      },
      "execution_count": 76,
      "outputs": [
        {
          "output_type": "execute_result",
          "data": {
            "text/plain": [
              "tensor([ 3,  6,  9, 12])"
            ]
          },
          "metadata": {},
          "execution_count": 76
        }
      ]
    },
    {
      "cell_type": "markdown",
      "source": [
        "Pytorch and Numpy"
      ],
      "metadata": {
        "id": "ckQLSKHaorQS"
      }
    },
    {
      "cell_type": "code",
      "source": [
        "#NumPy array to tensor\n",
        "import torch\n",
        "import numpy as np\n",
        "\n",
        "array = np.arange(1.0,13.0)# data type is float32\n",
        "tensor= torch.from_numpy(array)\n",
        "array,tensor"
      ],
      "metadata": {
        "colab": {
          "base_uri": "https://localhost:8080/"
        },
        "id": "Hsnoz0cqwrKX",
        "outputId": "fc59472b-e0b8-4409-e3e5-e1fdd1680167"
      },
      "execution_count": 77,
      "outputs": [
        {
          "output_type": "execute_result",
          "data": {
            "text/plain": [
              "(array([ 1.,  2.,  3.,  4.,  5.,  6.,  7.,  8.,  9., 10., 11., 12.]),\n",
              " tensor([ 1.,  2.,  3.,  4.,  5.,  6.,  7.,  8.,  9., 10., 11., 12.],\n",
              "        dtype=torch.float64))"
            ]
          },
          "metadata": {},
          "execution_count": 77
        }
      ]
    },
    {
      "cell_type": "code",
      "source": [
        "#tensor to numpy\n",
        "tensor = torch.ones(7)\n",
        "numpy_tensor = tensor.numpy()\n",
        "tensor, numpy_tensor"
      ],
      "metadata": {
        "colab": {
          "base_uri": "https://localhost:8080/"
        },
        "id": "CfiEjgBYw_nP",
        "outputId": "d0083e18-4a3a-4f86-cfaa-ca1ab9540759"
      },
      "execution_count": 78,
      "outputs": [
        {
          "output_type": "execute_result",
          "data": {
            "text/plain": [
              "(tensor([1., 1., 1., 1., 1., 1., 1.]),\n",
              " array([1., 1., 1., 1., 1., 1., 1.], dtype=float32))"
            ]
          },
          "metadata": {},
          "execution_count": 78
        }
      ]
    },
    {
      "cell_type": "markdown",
      "source": [
        "Reproducibility\n",
        "-trying to takeout randomness out of random\n",
        "\n",
        "we use random seed to reduce the randomness in neural networks"
      ],
      "metadata": {
        "id": "d_TtLQPRy5Ib"
      }
    },
    {
      "cell_type": "code",
      "source": [
        "random_tensor_A = torch.rand(3,4)\n",
        "random_tensor_B = torch.rand(3,4)\n",
        "\n",
        "random_tensor_A,random_tensor_B,random_tensor_A==random_tensor_B"
      ],
      "metadata": {
        "colab": {
          "base_uri": "https://localhost:8080/"
        },
        "id": "K0MaCBRBzesc",
        "outputId": "11b73c2f-586a-4f98-cbde-05cadb26e1e4"
      },
      "execution_count": 79,
      "outputs": [
        {
          "output_type": "execute_result",
          "data": {
            "text/plain": [
              "(tensor([[9.6691e-01, 1.4065e-01, 2.1694e-03, 7.9459e-01],\n",
              "         [7.3971e-01, 8.3051e-01, 2.6173e-01, 2.8321e-01],\n",
              "         [5.6947e-01, 8.7629e-01, 7.1776e-04, 4.6848e-01]]),\n",
              " tensor([[0.4108, 0.4770, 0.8799, 0.5418],\n",
              "         [0.6672, 0.0908, 0.7812, 0.4766],\n",
              "         [0.4569, 0.2317, 0.8479, 0.5855]]),\n",
              " tensor([[False, False, False, False],\n",
              "         [False, False, False, False],\n",
              "         [False, False, False, False]]))"
            ]
          },
          "metadata": {},
          "execution_count": 79
        }
      ]
    },
    {
      "cell_type": "code",
      "source": [
        "RANDOM_SEED =10\n",
        "torch.manual_seed(RANDOM_SEED)\n",
        "random_tensor_c = torch.rand(3,4)\n",
        "\n",
        "torch.manual_seed(RANDOM_SEED)\n",
        "random_tensor_d = torch.rand(3,4)\n",
        "\n",
        "random_tensor_c,random_tensor_d,random_tensor_c==random_tensor_d"
      ],
      "metadata": {
        "colab": {
          "base_uri": "https://localhost:8080/"
        },
        "id": "fJ3vCsHb2FF7",
        "outputId": "e0f037e3-620f-4398-8fb2-641958f197da"
      },
      "execution_count": 80,
      "outputs": [
        {
          "output_type": "execute_result",
          "data": {
            "text/plain": [
              "(tensor([[0.4581, 0.4829, 0.3125, 0.6150],\n",
              "         [0.2139, 0.4118, 0.6938, 0.9693],\n",
              "         [0.6178, 0.3304, 0.5479, 0.4440]]),\n",
              " tensor([[0.4581, 0.4829, 0.3125, 0.6150],\n",
              "         [0.2139, 0.4118, 0.6938, 0.9693],\n",
              "         [0.6178, 0.3304, 0.5479, 0.4440]]),\n",
              " tensor([[True, True, True, True],\n",
              "         [True, True, True, True],\n",
              "         [True, True, True, True]]))"
            ]
          },
          "metadata": {},
          "execution_count": 80
        }
      ]
    },
    {
      "cell_type": "markdown",
      "source": [
        "Running tensors and Pytorch objects on the GPUs(and making faster computations)\n",
        "\n",
        "GPU= faster thanks to CUDA hardware\n",
        "\n",
        "Getting GPU:\n",
        "1. Google Collab\n",
        "2. Own GPU- buy GPU\n",
        "3. Cloud computing"
      ],
      "metadata": {
        "id": "Qe1lRw-44_fV"
      }
    },
    {
      "cell_type": "code",
      "source": [
        "#check for GPU access with Pytorch\n",
        "torch.cuda.is_available()"
      ],
      "metadata": {
        "colab": {
          "base_uri": "https://localhost:8080/"
        },
        "id": "1_a_elPn9DEu",
        "outputId": "8637c6f4-333e-456a-ee10-b520ee644576"
      },
      "execution_count": 82,
      "outputs": [
        {
          "output_type": "execute_result",
          "data": {
            "text/plain": [
              "True"
            ]
          },
          "metadata": {},
          "execution_count": 82
        }
      ]
    },
    {
      "cell_type": "code",
      "source": [
        "#setup device agnostic code\n",
        "device = \"cuda\" if torch.cuda.is_available() else \"cpu\"\n",
        "device"
      ],
      "metadata": {
        "colab": {
          "base_uri": "https://localhost:8080/",
          "height": 35
        },
        "id": "fIrtp50i9RH0",
        "outputId": "ab4cf9d4-c86c-4c93-d8d8-c5d2cd7faf31"
      },
      "execution_count": 84,
      "outputs": [
        {
          "output_type": "execute_result",
          "data": {
            "text/plain": [
              "'cuda'"
            ],
            "application/vnd.google.colaboratory.intrinsic+json": {
              "type": "string"
            }
          },
          "metadata": {},
          "execution_count": 84
        }
      ]
    },
    {
      "cell_type": "code",
      "source": [
        "torch.cuda.device_count()"
      ],
      "metadata": {
        "colab": {
          "base_uri": "https://localhost:8080/"
        },
        "id": "v1dQHDJx-C59",
        "outputId": "09e760be-d5a1-4720-8d40-82621ec7497a"
      },
      "execution_count": 85,
      "outputs": [
        {
          "output_type": "execute_result",
          "data": {
            "text/plain": [
              "1"
            ]
          },
          "metadata": {},
          "execution_count": 85
        }
      ]
    },
    {
      "cell_type": "markdown",
      "source": [
        "Putting a tensor(and models) on the GPU"
      ],
      "metadata": {
        "id": "b3JVKqfQ-tPX"
      }
    },
    {
      "cell_type": "code",
      "source": [
        "#default cpu\n",
        "tensor= torch.tensor([1,2,3])\n",
        "tensor,tensor.device"
      ],
      "metadata": {
        "colab": {
          "base_uri": "https://localhost:8080/"
        },
        "id": "TjxaSSVW-1DR",
        "outputId": "76623e01-2b2f-4615-d2ba-65f25257fb49"
      },
      "execution_count": 90,
      "outputs": [
        {
          "output_type": "execute_result",
          "data": {
            "text/plain": [
              "(tensor([1, 2, 3]), device(type='cpu'))"
            ]
          },
          "metadata": {},
          "execution_count": 90
        }
      ]
    },
    {
      "cell_type": "code",
      "source": [
        "#using gpu\n",
        "tensor_on_gpu = tensor.to(device)\n",
        "tensor_on_gpu"
      ],
      "metadata": {
        "colab": {
          "base_uri": "https://localhost:8080/"
        },
        "id": "rkvwnqVb-4jF",
        "outputId": "8e354e63-498c-4444-a1bd-7406c12b908f"
      },
      "execution_count": 92,
      "outputs": [
        {
          "output_type": "execute_result",
          "data": {
            "text/plain": [
              "tensor([1, 2, 3], device='cuda:0')"
            ]
          },
          "metadata": {},
          "execution_count": 92
        }
      ]
    },
    {
      "cell_type": "code",
      "source": [
        "tensor_on_cpu = tensor.to(\"cpu\")"
      ],
      "metadata": {
        "id": "ef390Hkt_eTZ"
      },
      "execution_count": 93,
      "outputs": []
    },
    {
      "cell_type": "code",
      "source": [
        "tensor_on_cpu.device"
      ],
      "metadata": {
        "colab": {
          "base_uri": "https://localhost:8080/"
        },
        "id": "_rc_9AQjAILc",
        "outputId": "d33ecd16-9095-41a5-b03c-ba96ac20ad96"
      },
      "execution_count": 95,
      "outputs": [
        {
          "output_type": "execute_result",
          "data": {
            "text/plain": [
              "device(type='cpu')"
            ]
          },
          "metadata": {},
          "execution_count": 95
        }
      ]
    },
    {
      "cell_type": "code",
      "source": [
        "array = tensor_on_cpu.numpy()# array= tensor_on_gpu.cpu().numpy()"
      ],
      "metadata": {
        "id": "sD6SrgJ5AJlz"
      },
      "execution_count": 98,
      "outputs": []
    },
    {
      "cell_type": "code",
      "source": [
        "array"
      ],
      "metadata": {
        "colab": {
          "base_uri": "https://localhost:8080/"
        },
        "id": "N7y31Hp-AoS3",
        "outputId": "bfe011b2-421c-42d0-91e8-54ad1544af08"
      },
      "execution_count": 97,
      "outputs": [
        {
          "output_type": "execute_result",
          "data": {
            "text/plain": [
              "array([1, 2, 3])"
            ]
          },
          "metadata": {},
          "execution_count": 97
        }
      ]
    }
  ]
}