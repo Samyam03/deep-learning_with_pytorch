{
  "cells": [
    {
      "cell_type": "code",
      "execution_count": 93,
      "metadata": {
        "colab": {
          "base_uri": "https://localhost:8080/"
        },
        "id": "myMqYC3kToZh",
        "outputId": "69f62005-fd77-41d8-de43-d46f983b3ffa"
      },
      "outputs": [
        {
          "name": "stdout",
          "output_type": "stream",
          "text": [
            "2.6.0+cu124\n"
          ]
        }
      ],
      "source": [
        "import torch\n",
        "import pandas as pd\n",
        "import numpy as np\n",
        "import matplotlib.pyplot as plt\n",
        "\n",
        "\n",
        "print(torch.__version__)"
      ]
    },
    {
      "cell_type": "markdown",
      "metadata": {
        "id": "xUhyciR1c7Hl"
      },
      "source": [
        "## Introduction to Tensors"
      ]
    },
    {
      "cell_type": "code",
      "execution_count": 94,
      "metadata": {
        "id": "W4zTy2q6jZV8"
      },
      "outputs": [],
      "source": [
        "scalar= torch.tensor(7)"
      ]
    },
    {
      "cell_type": "code",
      "execution_count": 95,
      "metadata": {
        "colab": {
          "base_uri": "https://localhost:8080/"
        },
        "id": "t74VzOppXfFK",
        "outputId": "681f6d48-1de6-4476-8dca-23d98f4631c8"
      },
      "outputs": [
        {
          "data": {
            "text/plain": [
              "tensor(7)"
            ]
          },
          "execution_count": 95,
          "metadata": {},
          "output_type": "execute_result"
        }
      ],
      "source": [
        "scalar"
      ]
    },
    {
      "cell_type": "code",
      "execution_count": 96,
      "metadata": {
        "colab": {
          "base_uri": "https://localhost:8080/"
        },
        "id": "5zg6Unc_XhCZ",
        "outputId": "00a12de7-15e6-4d83-b9b3-0664cd577758"
      },
      "outputs": [
        {
          "data": {
            "text/plain": [
              "0"
            ]
          },
          "execution_count": 96,
          "metadata": {},
          "output_type": "execute_result"
        }
      ],
      "source": [
        "scalar.ndim"
      ]
    },
    {
      "cell_type": "markdown",
      "metadata": {
        "id": "DwJO_PHgqZNH"
      },
      "source": [
        "only for scalar does item work"
      ]
    },
    {
      "cell_type": "code",
      "execution_count": 97,
      "metadata": {
        "colab": {
          "base_uri": "https://localhost:8080/"
        },
        "id": "WJxampT0XjLj",
        "outputId": "13271ead-7f18-4147-95ce-6dd533c480da"
      },
      "outputs": [
        {
          "data": {
            "text/plain": [
              "7"
            ]
          },
          "execution_count": 97,
          "metadata": {},
          "output_type": "execute_result"
        }
      ],
      "source": [
        "scalar.item()"
      ]
    },
    {
      "cell_type": "code",
      "execution_count": 98,
      "metadata": {
        "id": "_ao63bABXlrs"
      },
      "outputs": [],
      "source": [
        "vector = torch.tensor([7,6])"
      ]
    },
    {
      "cell_type": "code",
      "execution_count": 99,
      "metadata": {
        "colab": {
          "base_uri": "https://localhost:8080/"
        },
        "id": "HPgXIWf_Xr0q",
        "outputId": "b85ab58b-5a02-450d-b0d0-095a39e44aa7"
      },
      "outputs": [
        {
          "data": {
            "text/plain": [
              "tensor([7, 6])"
            ]
          },
          "execution_count": 99,
          "metadata": {},
          "output_type": "execute_result"
        }
      ],
      "source": [
        "vector"
      ]
    },
    {
      "cell_type": "markdown",
      "metadata": {
        "id": "Wdra1tY1qgWc"
      },
      "source": [
        "how many square bracket is the dimension of tensor"
      ]
    },
    {
      "cell_type": "code",
      "execution_count": 100,
      "metadata": {
        "colab": {
          "base_uri": "https://localhost:8080/"
        },
        "id": "gQ5VFlzPXszM",
        "outputId": "3ea86208-fabe-4c97-c430-d46b2d01d44f"
      },
      "outputs": [
        {
          "data": {
            "text/plain": [
              "1"
            ]
          },
          "execution_count": 100,
          "metadata": {},
          "output_type": "execute_result"
        }
      ],
      "source": [
        "vector.ndim"
      ]
    },
    {
      "cell_type": "markdown",
      "metadata": {
        "id": "uEezJ5Ykqp8b"
      },
      "source": []
    },
    {
      "cell_type": "code",
      "execution_count": 101,
      "metadata": {
        "colab": {
          "base_uri": "https://localhost:8080/"
        },
        "id": "aVIXoThJYP47",
        "outputId": "191c5d66-1714-453e-ce60-7761d7d4275c"
      },
      "outputs": [
        {
          "data": {
            "text/plain": [
              "torch.Size([2])"
            ]
          },
          "execution_count": 101,
          "metadata": {},
          "output_type": "execute_result"
        }
      ],
      "source": [
        "vector.shape"
      ]
    },
    {
      "cell_type": "code",
      "execution_count": 102,
      "metadata": {
        "colab": {
          "base_uri": "https://localhost:8080/"
        },
        "id": "xDfW_HWiYavV",
        "outputId": "cb3e3683-1fa6-487b-f4f3-691eff36f399"
      },
      "outputs": [
        {
          "data": {
            "text/plain": [
              "tensor(6)"
            ]
          },
          "execution_count": 102,
          "metadata": {},
          "output_type": "execute_result"
        }
      ],
      "source": [
        "vector[1]"
      ]
    },
    {
      "cell_type": "code",
      "execution_count": 103,
      "metadata": {
        "id": "woV5VDc4Y6IN"
      },
      "outputs": [],
      "source": [
        "#TENSORS\n",
        "#this is shape\n",
        "TENSOR = torch.tensor([[[1,2],[4,5],[7,8]]])\n",
        "#torch.Size([1, 3, 2])\n",
        "#[[[1,2],[4,5],[7,8]]]<-----this bracket has 1 element\n",
        "#[[1,2],[4,5],[7,8]]<----- this bracket has 3 elements\n",
        "#all the elements inside the last bracket has 2 elements"
      ]
    },
    {
      "cell_type": "code",
      "execution_count": 104,
      "metadata": {
        "colab": {
          "base_uri": "https://localhost:8080/"
        },
        "id": "ReGo8ZLXaI1c",
        "outputId": "af66c660-0e8e-41fa-cac7-25e9e9e6e5dd"
      },
      "outputs": [
        {
          "data": {
            "text/plain": [
              "tensor([[[1, 2],\n",
              "         [4, 5],\n",
              "         [7, 8]]])"
            ]
          },
          "execution_count": 104,
          "metadata": {},
          "output_type": "execute_result"
        }
      ],
      "source": [
        "TENSOR"
      ]
    },
    {
      "cell_type": "code",
      "execution_count": 105,
      "metadata": {
        "colab": {
          "base_uri": "https://localhost:8080/"
        },
        "id": "Q8ihtc91bAP1",
        "outputId": "eaeee555-2a79-412c-d1d3-0cf1e6435b65"
      },
      "outputs": [
        {
          "data": {
            "text/plain": [
              "torch.Size([1, 3, 2])"
            ]
          },
          "execution_count": 105,
          "metadata": {},
          "output_type": "execute_result"
        }
      ],
      "source": [
        "TENSOR.shape"
      ]
    },
    {
      "cell_type": "code",
      "execution_count": 106,
      "metadata": {
        "colab": {
          "base_uri": "https://localhost:8080/"
        },
        "id": "maYhj236auaj",
        "outputId": "b327c75d-5a9d-4b7d-b3bb-1cc1cfee017a"
      },
      "outputs": [
        {
          "data": {
            "text/plain": [
              "3"
            ]
          },
          "execution_count": 106,
          "metadata": {},
          "output_type": "execute_result"
        }
      ],
      "source": [
        "TENSOR.ndim"
      ]
    },
    {
      "cell_type": "markdown",
      "metadata": {
        "id": "B9zmsta2ka6S"
      },
      "source": [
        "RANDOM TENSORS\n"
      ]
    },
    {
      "cell_type": "code",
      "execution_count": 107,
      "metadata": {
        "colab": {
          "base_uri": "https://localhost:8080/"
        },
        "id": "d_tTwyFwkd7k",
        "outputId": "9912ca4c-d3a9-4831-f0ac-d378fc26a993"
      },
      "outputs": [
        {
          "data": {
            "text/plain": [
              "tensor([[[0.2089, 0.5243],\n",
              "         [0.4429, 0.5985],\n",
              "         [0.6232, 0.4104]]])"
            ]
          },
          "execution_count": 107,
          "metadata": {},
          "output_type": "execute_result"
        }
      ],
      "source": [
        " random_tensor= torch.rand(1,3,2)\n",
        " random_tensor"
      ]
    },
    {
      "cell_type": "code",
      "execution_count": 108,
      "metadata": {
        "colab": {
          "base_uri": "https://localhost:8080/"
        },
        "id": "coSCQ6ouqCJV",
        "outputId": "83a89213-087e-43a6-ddb6-364eeda9714e"
      },
      "outputs": [
        {
          "data": {
            "text/plain": [
              "(torch.Size([3, 224, 224]), 3)"
            ]
          },
          "execution_count": 108,
          "metadata": {},
          "output_type": "execute_result"
        }
      ],
      "source": [
        "random_image_size_tensor= torch.rand(size=(3,224,224))\n",
        "random_image_size_tensor.shape,random_image_size_tensor.ndim"
      ]
    },
    {
      "cell_type": "markdown",
      "metadata": {
        "id": "BlL3NBJNrzOb"
      },
      "source": [
        "Tensors of 0 and 1s"
      ]
    },
    {
      "cell_type": "code",
      "execution_count": 109,
      "metadata": {
        "colab": {
          "base_uri": "https://localhost:8080/"
        },
        "id": "nvrD1RWEqTPW",
        "outputId": "7d24c486-1c2b-4228-cadc-95500bc46b7d"
      },
      "outputs": [
        {
          "data": {
            "text/plain": [
              "tensor([[0., 0., 0., 0.],\n",
              "        [0., 0., 0., 0.],\n",
              "        [0., 0., 0., 0.]])"
            ]
          },
          "execution_count": 109,
          "metadata": {},
          "output_type": "execute_result"
        }
      ],
      "source": [
        "zero = torch.zeros(size=(3,4))\n",
        "zero"
      ]
    },
    {
      "cell_type": "code",
      "execution_count": 110,
      "metadata": {
        "id": "VzfZxH_0r_2n"
      },
      "outputs": [],
      "source": [
        "ones = torch.ones(3,4)"
      ]
    },
    {
      "cell_type": "code",
      "execution_count": 111,
      "metadata": {
        "colab": {
          "base_uri": "https://localhost:8080/"
        },
        "id": "CbtAk-5TsRbh",
        "outputId": "891a9989-b988-44e9-b4ac-78833ce372f8"
      },
      "outputs": [
        {
          "data": {
            "text/plain": [
              "tensor([[1., 1., 1., 1.],\n",
              "        [1., 1., 1., 1.],\n",
              "        [1., 1., 1., 1.]])"
            ]
          },
          "execution_count": 111,
          "metadata": {},
          "output_type": "execute_result"
        }
      ],
      "source": [
        "ones"
      ]
    },
    {
      "cell_type": "code",
      "execution_count": 112,
      "metadata": {
        "colab": {
          "base_uri": "https://localhost:8080/"
        },
        "id": "6TqlZ5FosTsU",
        "outputId": "01725105-05a2-41ec-b786-8cb989f43e7a"
      },
      "outputs": [
        {
          "data": {
            "text/plain": [
              "torch.float32"
            ]
          },
          "execution_count": 112,
          "metadata": {},
          "output_type": "execute_result"
        }
      ],
      "source": [
        "ones.dtype"
      ]
    },
    {
      "cell_type": "markdown",
      "metadata": {
        "id": "hAZgitqLszdJ"
      },
      "source": [
        "Creating a range of tensore and tensors like"
      ]
    },
    {
      "cell_type": "code",
      "execution_count": 113,
      "metadata": {
        "colab": {
          "base_uri": "https://localhost:8080/"
        },
        "id": "vMKzow0Us5OW",
        "outputId": "27d18731-fa30-4094-ad54-8344a3b6a87d"
      },
      "outputs": [
        {
          "data": {
            "text/plain": [
              "tensor([0, 1, 2, 3, 4, 5, 6, 7, 8, 9])"
            ]
          },
          "execution_count": 113,
          "metadata": {},
          "output_type": "execute_result"
        }
      ],
      "source": [
        "torch.arange(0,10)"
      ]
    },
    {
      "cell_type": "code",
      "execution_count": 114,
      "metadata": {
        "id": "4acx63CvtIwN"
      },
      "outputs": [],
      "source": [
        "range = torch.arange(0,100,10)"
      ]
    },
    {
      "cell_type": "code",
      "execution_count": 115,
      "metadata": {
        "colab": {
          "base_uri": "https://localhost:8080/"
        },
        "id": "xH5TGpRbth9i",
        "outputId": "8969f2a5-4522-4720-9af7-520ffadc1fb1"
      },
      "outputs": [
        {
          "data": {
            "text/plain": [
              "tensor([ 0, 10, 20, 30, 40, 50, 60, 70, 80, 90])"
            ]
          },
          "execution_count": 115,
          "metadata": {},
          "output_type": "execute_result"
        }
      ],
      "source": [
        "range"
      ]
    },
    {
      "cell_type": "code",
      "execution_count": 116,
      "metadata": {
        "id": "5PSeExSPtitu"
      },
      "outputs": [],
      "source": [
        "#tensor like\n",
        "ten_zeroes = torch.zeros_like(range)"
      ]
    },
    {
      "cell_type": "code",
      "execution_count": 117,
      "metadata": {
        "colab": {
          "base_uri": "https://localhost:8080/"
        },
        "id": "hMBwKdMxtuOR",
        "outputId": "4eb6119e-e0db-417e-fcd3-14eff53fe423"
      },
      "outputs": [
        {
          "data": {
            "text/plain": [
              "tensor([0, 0, 0, 0, 0, 0, 0, 0, 0, 0])"
            ]
          },
          "execution_count": 117,
          "metadata": {},
          "output_type": "execute_result"
        }
      ],
      "source": [
        "ten_zeroes"
      ]
    },
    {
      "cell_type": "markdown",
      "metadata": {
        "id": "87lu2bkcEutC"
      },
      "source": [
        "Tensor data types\n",
        "\n",
        "\n",
        "Note: Tensor datatypes are one of 3 big issues we run into in pytorch and data science\n",
        "\n",
        "1.Tensor not right datatype\n",
        "\n",
        "2.Tensor not right shape\n",
        "\n",
        "3.Tensor not on the right device"
      ]
    },
    {
      "cell_type": "code",
      "execution_count": 124,
      "metadata": {
        "id": "9VDNZ8TJEzN0"
      },
      "outputs": [],
      "source": [
        "float_tensor = torch.tensor([3,6,9],\n",
        "                            dtype=None,#data type in tensor\n",
        "                            device=None,#device tensor is on, diffrent tensor in different device cause issue\n",
        "                            requires_grad=False)#whether or not to track gradients with this tensors operation"
      ]
    },
    {
      "cell_type": "code",
      "execution_count": 126,
      "metadata": {
        "colab": {
          "base_uri": "https://localhost:8080/"
        },
        "id": "H_8ZuBFDH70q",
        "outputId": "ed0c5737-55fe-4455-fc55-71f576a4e717"
      },
      "outputs": [
        {
          "data": {
            "text/plain": [
              "float"
            ]
          },
          "execution_count": 126,
          "metadata": {},
          "output_type": "execute_result"
        }
      ],
      "source": [
        "float"
      ]
    },
    {
      "cell_type": "code",
      "execution_count": 127,
      "metadata": {
        "colab": {
          "base_uri": "https://localhost:8080/"
        },
        "id": "6TuhEQ7KH8-x",
        "outputId": "d1e252b0-77a9-4083-b6fd-48c527ec8cff"
      },
      "outputs": [
        {
          "data": {
            "text/plain": [
              "tensor([3, 6, 9])"
            ]
          },
          "execution_count": 127,
          "metadata": {},
          "output_type": "execute_result"
        }
      ],
      "source": [
        "float_tensor"
      ]
    },
    {
      "cell_type": "code",
      "execution_count": 128,
      "metadata": {
        "id": "VUOJGmXeH91H"
      },
      "outputs": [],
      "source": [
        "float_16_tensor = float_tensor.type(torch.float16)"
      ]
    },
    {
      "cell_type": "code",
      "execution_count": 129,
      "metadata": {
        "colab": {
          "base_uri": "https://localhost:8080/"
        },
        "id": "Qb0ZjrknLx-D",
        "outputId": "c7eabb0a-3335-4c1d-acd8-ce435e168c16"
      },
      "outputs": [
        {
          "data": {
            "text/plain": [
              "tensor([3., 6., 9.], dtype=torch.float16)"
            ]
          },
          "execution_count": 129,
          "metadata": {},
          "output_type": "execute_result"
        }
      ],
      "source": [
        "float_16_tensor"
      ]
    },
    {
      "cell_type": "code",
      "execution_count": 130,
      "metadata": {
        "colab": {
          "base_uri": "https://localhost:8080/"
        },
        "id": "Gl_bgyo0L0EV",
        "outputId": "43f4e733-ff7a-4a6a-ed6b-46d1d4706d06"
      },
      "outputs": [
        {
          "data": {
            "text/plain": [
              "tensor([ 9., 36., 81.], dtype=torch.float16)"
            ]
          },
          "execution_count": 130,
          "metadata": {},
          "output_type": "execute_result"
        }
      ],
      "source": [
        "float_16_tensor*float_tensor"
      ]
    },
    {
      "cell_type": "code",
      "execution_count": null,
      "metadata": {
        "id": "AExrFXcIRkFB"
      },
      "outputs": [],
      "source": []
    }
  ],
  "metadata": {
    "colab": {
      "provenance": []
    },
    "kernelspec": {
      "display_name": "Python 3",
      "name": "python3"
    },
    "language_info": {
      "name": "python"
    }
  },
  "nbformat": 4,
  "nbformat_minor": 0
}
