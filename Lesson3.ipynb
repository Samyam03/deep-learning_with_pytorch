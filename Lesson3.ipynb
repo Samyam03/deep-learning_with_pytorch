{
  "nbformat": 4,
  "nbformat_minor": 0,
  "metadata": {
    "colab": {
      "provenance": []
    },
    "kernelspec": {
      "name": "python3",
      "display_name": "Python 3"
    },
    "language_info": {
      "name": "python"
    }
  },
  "cells": [
    {
      "cell_type": "code",
      "source": [
        "import torch\n",
        "import pandas as pd\n",
        "import numpy as np\n",
        "import matplotlib.pyplot as plt\n",
        "\n",
        "\n",
        "print(torch.__version__)"
      ],
      "metadata": {
        "colab": {
          "base_uri": "https://localhost:8080/"
        },
        "id": "myMqYC3kToZh",
        "outputId": "e2c61584-c501-4113-f541-7544f42c0ce6"
      },
      "execution_count": 2,
      "outputs": [
        {
          "output_type": "stream",
          "name": "stdout",
          "text": [
            "2.6.0+cu124\n"
          ]
        }
      ]
    },
    {
      "cell_type": "markdown",
      "source": [
        "## Introduction to Tensors"
      ],
      "metadata": {
        "id": "xUhyciR1c7Hl"
      }
    },
    {
      "cell_type": "code",
      "source": [
        "scalar= torch.tensor(7)"
      ],
      "metadata": {
        "id": "W4zTy2q6jZV8"
      },
      "execution_count": 3,
      "outputs": []
    },
    {
      "cell_type": "code",
      "source": [
        "scalar"
      ],
      "metadata": {
        "colab": {
          "base_uri": "https://localhost:8080/"
        },
        "id": "t74VzOppXfFK",
        "outputId": "4e18573c-1586-4cd1-c1d5-baadac3d093a"
      },
      "execution_count": 4,
      "outputs": [
        {
          "output_type": "execute_result",
          "data": {
            "text/plain": [
              "tensor(7)"
            ]
          },
          "metadata": {},
          "execution_count": 4
        }
      ]
    },
    {
      "cell_type": "code",
      "source": [
        "scalar.ndim"
      ],
      "metadata": {
        "colab": {
          "base_uri": "https://localhost:8080/"
        },
        "id": "5zg6Unc_XhCZ",
        "outputId": "2a7e6756-ba0b-4c4f-a673-fae119341a11"
      },
      "execution_count": 5,
      "outputs": [
        {
          "output_type": "execute_result",
          "data": {
            "text/plain": [
              "0"
            ]
          },
          "metadata": {},
          "execution_count": 5
        }
      ]
    },
    {
      "cell_type": "markdown",
      "source": [
        "only for scalar does item work"
      ],
      "metadata": {
        "id": "DwJO_PHgqZNH"
      }
    },
    {
      "cell_type": "code",
      "source": [
        "scalar.item()"
      ],
      "metadata": {
        "colab": {
          "base_uri": "https://localhost:8080/"
        },
        "id": "WJxampT0XjLj",
        "outputId": "4a3c0fe4-d73f-4aa4-9070-e4197856af59"
      },
      "execution_count": 6,
      "outputs": [
        {
          "output_type": "execute_result",
          "data": {
            "text/plain": [
              "7"
            ]
          },
          "metadata": {},
          "execution_count": 6
        }
      ]
    },
    {
      "cell_type": "code",
      "source": [
        "vector = torch.tensor([7,6])"
      ],
      "metadata": {
        "id": "_ao63bABXlrs"
      },
      "execution_count": 7,
      "outputs": []
    },
    {
      "cell_type": "code",
      "source": [
        "vector"
      ],
      "metadata": {
        "colab": {
          "base_uri": "https://localhost:8080/"
        },
        "id": "HPgXIWf_Xr0q",
        "outputId": "830c383d-bd6d-4417-f691-98b1def4b595"
      },
      "execution_count": 8,
      "outputs": [
        {
          "output_type": "execute_result",
          "data": {
            "text/plain": [
              "tensor([7, 6])"
            ]
          },
          "metadata": {},
          "execution_count": 8
        }
      ]
    },
    {
      "cell_type": "markdown",
      "source": [
        "how many square bracket is the dimension of tensor"
      ],
      "metadata": {
        "id": "Wdra1tY1qgWc"
      }
    },
    {
      "cell_type": "code",
      "source": [
        "vector.ndim"
      ],
      "metadata": {
        "colab": {
          "base_uri": "https://localhost:8080/"
        },
        "id": "gQ5VFlzPXszM",
        "outputId": "2ae50364-8d97-4aba-dde1-e4aeeba24443"
      },
      "execution_count": 9,
      "outputs": [
        {
          "output_type": "execute_result",
          "data": {
            "text/plain": [
              "1"
            ]
          },
          "metadata": {},
          "execution_count": 9
        }
      ]
    },
    {
      "cell_type": "markdown",
      "source": [],
      "metadata": {
        "id": "uEezJ5Ykqp8b"
      }
    },
    {
      "cell_type": "code",
      "source": [
        "vector.shape"
      ],
      "metadata": {
        "colab": {
          "base_uri": "https://localhost:8080/"
        },
        "id": "aVIXoThJYP47",
        "outputId": "b73c344f-2de4-4a9a-ce50-e4e7e20bc09f"
      },
      "execution_count": 10,
      "outputs": [
        {
          "output_type": "execute_result",
          "data": {
            "text/plain": [
              "torch.Size([2])"
            ]
          },
          "metadata": {},
          "execution_count": 10
        }
      ]
    },
    {
      "cell_type": "code",
      "source": [
        "vector[1]"
      ],
      "metadata": {
        "colab": {
          "base_uri": "https://localhost:8080/"
        },
        "id": "xDfW_HWiYavV",
        "outputId": "8277d96b-14fa-41e1-f271-13a20ada9e11"
      },
      "execution_count": 11,
      "outputs": [
        {
          "output_type": "execute_result",
          "data": {
            "text/plain": [
              "tensor(6)"
            ]
          },
          "metadata": {},
          "execution_count": 11
        }
      ]
    },
    {
      "cell_type": "code",
      "source": [
        "#TENSORS\n",
        "#this is shape\n",
        "TENSOR = torch.tensor([[[1,2],[4,5],[7,8]]])\n",
        "#torch.Size([1, 3, 2])\n",
        "#[[[1,2],[4,5],[7,8]]]<-----this bracket has 1 element\n",
        "#[[1,2],[4,5],[7,8]]<----- this bracket has 3 elements\n",
        "#all the elements inside the last bracket has 2 elements"
      ],
      "metadata": {
        "id": "woV5VDc4Y6IN"
      },
      "execution_count": 12,
      "outputs": []
    },
    {
      "cell_type": "code",
      "source": [
        "TENSOR"
      ],
      "metadata": {
        "colab": {
          "base_uri": "https://localhost:8080/"
        },
        "id": "ReGo8ZLXaI1c",
        "outputId": "8dcdd46c-bb06-4f25-cb2d-b372d30545cf"
      },
      "execution_count": 13,
      "outputs": [
        {
          "output_type": "execute_result",
          "data": {
            "text/plain": [
              "tensor([[[1, 2],\n",
              "         [4, 5],\n",
              "         [7, 8]]])"
            ]
          },
          "metadata": {},
          "execution_count": 13
        }
      ]
    },
    {
      "cell_type": "code",
      "source": [
        "TENSOR.shape"
      ],
      "metadata": {
        "colab": {
          "base_uri": "https://localhost:8080/"
        },
        "id": "Q8ihtc91bAP1",
        "outputId": "4d140362-9e58-40f8-93d8-da34ade2dbb2"
      },
      "execution_count": 14,
      "outputs": [
        {
          "output_type": "execute_result",
          "data": {
            "text/plain": [
              "torch.Size([1, 3, 2])"
            ]
          },
          "metadata": {},
          "execution_count": 14
        }
      ]
    },
    {
      "cell_type": "code",
      "source": [
        "TENSOR.ndim"
      ],
      "metadata": {
        "colab": {
          "base_uri": "https://localhost:8080/"
        },
        "id": "maYhj236auaj",
        "outputId": "5f254765-6837-497c-982e-a34fbc9147d1"
      },
      "execution_count": 15,
      "outputs": [
        {
          "output_type": "execute_result",
          "data": {
            "text/plain": [
              "3"
            ]
          },
          "metadata": {},
          "execution_count": 15
        }
      ]
    },
    {
      "cell_type": "markdown",
      "source": [
        "RANDOM TENSORS\n"
      ],
      "metadata": {
        "id": "B9zmsta2ka6S"
      }
    },
    {
      "cell_type": "code",
      "source": [
        " random_tensor= torch.rand(1,3,2)\n",
        " random_tensor"
      ],
      "metadata": {
        "colab": {
          "base_uri": "https://localhost:8080/"
        },
        "id": "d_tTwyFwkd7k",
        "outputId": "e69b5fe6-4057-419f-9fdb-b624ec990fa0"
      },
      "execution_count": 16,
      "outputs": [
        {
          "output_type": "execute_result",
          "data": {
            "text/plain": [
              "tensor([[[0.5158, 0.4031],\n",
              "         [0.1985, 0.5773],\n",
              "         [0.3264, 0.1460]]])"
            ]
          },
          "metadata": {},
          "execution_count": 16
        }
      ]
    },
    {
      "cell_type": "code",
      "source": [
        "random_image_size_tensor= torch.rand(size=(3,224,224))\n",
        "random_image_size_tensor.shape,random_image_size_tensor.ndim"
      ],
      "metadata": {
        "colab": {
          "base_uri": "https://localhost:8080/"
        },
        "id": "coSCQ6ouqCJV",
        "outputId": "d2f6f13a-2ba4-4657-9575-d5d9ca82888b"
      },
      "execution_count": 17,
      "outputs": [
        {
          "output_type": "execute_result",
          "data": {
            "text/plain": [
              "(torch.Size([3, 224, 224]), 3)"
            ]
          },
          "metadata": {},
          "execution_count": 17
        }
      ]
    },
    {
      "cell_type": "markdown",
      "source": [
        "Tensors of 0 and 1s"
      ],
      "metadata": {
        "id": "BlL3NBJNrzOb"
      }
    },
    {
      "cell_type": "code",
      "source": [
        "zero = torch.zeros(size=(3,4))\n",
        "zero"
      ],
      "metadata": {
        "colab": {
          "base_uri": "https://localhost:8080/"
        },
        "id": "nvrD1RWEqTPW",
        "outputId": "c76f0068-0e9f-4c34-c951-574ebd7e7b6a"
      },
      "execution_count": 18,
      "outputs": [
        {
          "output_type": "execute_result",
          "data": {
            "text/plain": [
              "tensor([[0., 0., 0., 0.],\n",
              "        [0., 0., 0., 0.],\n",
              "        [0., 0., 0., 0.]])"
            ]
          },
          "metadata": {},
          "execution_count": 18
        }
      ]
    },
    {
      "cell_type": "code",
      "source": [
        "ones = torch.ones(3,4)"
      ],
      "metadata": {
        "id": "VzfZxH_0r_2n"
      },
      "execution_count": 19,
      "outputs": []
    },
    {
      "cell_type": "code",
      "source": [
        "ones"
      ],
      "metadata": {
        "colab": {
          "base_uri": "https://localhost:8080/"
        },
        "id": "CbtAk-5TsRbh",
        "outputId": "7c597d70-c89b-4dc6-d2d6-2cb9e2bbf9c8"
      },
      "execution_count": 20,
      "outputs": [
        {
          "output_type": "execute_result",
          "data": {
            "text/plain": [
              "tensor([[1., 1., 1., 1.],\n",
              "        [1., 1., 1., 1.],\n",
              "        [1., 1., 1., 1.]])"
            ]
          },
          "metadata": {},
          "execution_count": 20
        }
      ]
    },
    {
      "cell_type": "code",
      "source": [
        "ones.dtype"
      ],
      "metadata": {
        "colab": {
          "base_uri": "https://localhost:8080/"
        },
        "id": "6TqlZ5FosTsU",
        "outputId": "35884f10-14c2-4006-bd83-7eb784517f38"
      },
      "execution_count": 21,
      "outputs": [
        {
          "output_type": "execute_result",
          "data": {
            "text/plain": [
              "torch.float32"
            ]
          },
          "metadata": {},
          "execution_count": 21
        }
      ]
    },
    {
      "cell_type": "markdown",
      "source": [
        "Creating a range of tensore and tensors like"
      ],
      "metadata": {
        "id": "hAZgitqLszdJ"
      }
    },
    {
      "cell_type": "code",
      "source": [
        "torch.arange(0,10)"
      ],
      "metadata": {
        "colab": {
          "base_uri": "https://localhost:8080/"
        },
        "id": "vMKzow0Us5OW",
        "outputId": "e8c37252-7f12-4170-954d-a1cae5f7e574"
      },
      "execution_count": 22,
      "outputs": [
        {
          "output_type": "execute_result",
          "data": {
            "text/plain": [
              "tensor([0, 1, 2, 3, 4, 5, 6, 7, 8, 9])"
            ]
          },
          "metadata": {},
          "execution_count": 22
        }
      ]
    },
    {
      "cell_type": "code",
      "source": [
        "range = torch.arange(0,100,10)"
      ],
      "metadata": {
        "id": "4acx63CvtIwN"
      },
      "execution_count": 23,
      "outputs": []
    },
    {
      "cell_type": "code",
      "source": [
        "range"
      ],
      "metadata": {
        "colab": {
          "base_uri": "https://localhost:8080/"
        },
        "id": "xH5TGpRbth9i",
        "outputId": "0e9d8038-5ccd-4451-be9d-7efc76af7ae8"
      },
      "execution_count": 24,
      "outputs": [
        {
          "output_type": "execute_result",
          "data": {
            "text/plain": [
              "tensor([ 0, 10, 20, 30, 40, 50, 60, 70, 80, 90])"
            ]
          },
          "metadata": {},
          "execution_count": 24
        }
      ]
    },
    {
      "cell_type": "code",
      "source": [
        "#tensor like\n",
        "ten_zeroes = torch.zeros_like(range)"
      ],
      "metadata": {
        "id": "5PSeExSPtitu"
      },
      "execution_count": 25,
      "outputs": []
    },
    {
      "cell_type": "code",
      "source": [
        "ten_zeroes"
      ],
      "metadata": {
        "colab": {
          "base_uri": "https://localhost:8080/"
        },
        "id": "hMBwKdMxtuOR",
        "outputId": "fe7ba6ad-0117-41b6-96f8-cbbf48c36ce2"
      },
      "execution_count": 26,
      "outputs": [
        {
          "output_type": "execute_result",
          "data": {
            "text/plain": [
              "tensor([0, 0, 0, 0, 0, 0, 0, 0, 0, 0])"
            ]
          },
          "metadata": {},
          "execution_count": 26
        }
      ]
    },
    {
      "cell_type": "markdown",
      "source": [
        "Tensor data types\n",
        "\n",
        "\n",
        "Note: Tensor datatypes are one of 3 big issues we run into in pytorch and data science\n",
        "\n",
        "1.Tensor not right datatype\n",
        "\n",
        "2.Tensor not right shape\n",
        "\n",
        "3.Tensor not on the right device"
      ],
      "metadata": {
        "id": "87lu2bkcEutC"
      }
    },
    {
      "cell_type": "code",
      "source": [
        "float_tensor = torch.tensor([3,6,9],\n",
        "                            dtype=None,#data type in tensor\n",
        "                            device=None,#device tensor is on, diffrent tensor in different device cause issue\n",
        "                            requires_grad=False)#whether or not to track gradients with this tensors operation"
      ],
      "metadata": {
        "id": "9VDNZ8TJEzN0"
      },
      "execution_count": 27,
      "outputs": []
    },
    {
      "cell_type": "code",
      "source": [
        "float"
      ],
      "metadata": {
        "colab": {
          "base_uri": "https://localhost:8080/"
        },
        "id": "H_8ZuBFDH70q",
        "outputId": "346d7eb0-2c12-426c-d73e-39e20c2e355c"
      },
      "execution_count": 28,
      "outputs": [
        {
          "output_type": "execute_result",
          "data": {
            "text/plain": [
              "float"
            ]
          },
          "metadata": {},
          "execution_count": 28
        }
      ]
    },
    {
      "cell_type": "code",
      "source": [
        "float_tensor"
      ],
      "metadata": {
        "colab": {
          "base_uri": "https://localhost:8080/"
        },
        "id": "6TuhEQ7KH8-x",
        "outputId": "f94ce5c3-fc62-4b16-9022-f1e97c4ec8cb"
      },
      "execution_count": 29,
      "outputs": [
        {
          "output_type": "execute_result",
          "data": {
            "text/plain": [
              "tensor([3, 6, 9])"
            ]
          },
          "metadata": {},
          "execution_count": 29
        }
      ]
    },
    {
      "cell_type": "code",
      "source": [
        "float_16_tensor = float_tensor.type(torch.float16)"
      ],
      "metadata": {
        "id": "VUOJGmXeH91H"
      },
      "execution_count": 30,
      "outputs": []
    },
    {
      "cell_type": "code",
      "source": [
        "float_16_tensor"
      ],
      "metadata": {
        "colab": {
          "base_uri": "https://localhost:8080/"
        },
        "id": "Qb0ZjrknLx-D",
        "outputId": "9fbf85be-ec79-40cf-9bfa-2d625304e878"
      },
      "execution_count": 31,
      "outputs": [
        {
          "output_type": "execute_result",
          "data": {
            "text/plain": [
              "tensor([3., 6., 9.], dtype=torch.float16)"
            ]
          },
          "metadata": {},
          "execution_count": 31
        }
      ]
    },
    {
      "cell_type": "code",
      "source": [
        "float_16_tensor*float_tensor"
      ],
      "metadata": {
        "colab": {
          "base_uri": "https://localhost:8080/"
        },
        "id": "Gl_bgyo0L0EV",
        "outputId": "b3865801-3cfe-4f41-c5de-58b6627b4182"
      },
      "execution_count": 32,
      "outputs": [
        {
          "output_type": "execute_result",
          "data": {
            "text/plain": [
              "tensor([ 9., 36., 81.], dtype=torch.float16)"
            ]
          },
          "metadata": {},
          "execution_count": 32
        }
      ]
    },
    {
      "cell_type": "markdown",
      "source": [
        "Lesson 2"
      ],
      "metadata": {
        "id": "Ks_ladC0fzd4"
      }
    },
    {
      "cell_type": "code",
      "source": [
        "int_32_tensor = torch.tensor([3,6,9],dtype=torch.int32)"
      ],
      "metadata": {
        "id": "AExrFXcIRkFB"
      },
      "execution_count": 33,
      "outputs": []
    },
    {
      "cell_type": "code",
      "source": [
        "int_32_tensor"
      ],
      "metadata": {
        "colab": {
          "base_uri": "https://localhost:8080/"
        },
        "id": "wJL8LnrxmbBl",
        "outputId": "f73fb8a0-42c9-4ba5-87ba-659c1f654d13"
      },
      "execution_count": 34,
      "outputs": [
        {
          "output_type": "execute_result",
          "data": {
            "text/plain": [
              "tensor([3, 6, 9], dtype=torch.int32)"
            ]
          },
          "metadata": {},
          "execution_count": 34
        }
      ]
    },
    {
      "cell_type": "code",
      "source": [
        "float_tensor*int_32_tensor"
      ],
      "metadata": {
        "colab": {
          "base_uri": "https://localhost:8080/"
        },
        "id": "YxFu_Sl8mpBU",
        "outputId": "afcf594f-8682-46aa-9401-3f2478670e78"
      },
      "execution_count": 35,
      "outputs": [
        {
          "output_type": "execute_result",
          "data": {
            "text/plain": [
              "tensor([ 9, 36, 81])"
            ]
          },
          "metadata": {},
          "execution_count": 35
        }
      ]
    },
    {
      "cell_type": "markdown",
      "source": [
        "Getting information from tensors\n",
        "\n",
        "1.Tensor not right datatype- to get datatype from a tensor, use tensor.dtype\n",
        "\n",
        "2.Tensor not right shape- to get shape, use tensor.shape\n",
        "\n",
        "3.Tensor not on the right device- to get device from a tensor, use tensor.device"
      ],
      "metadata": {
        "id": "Oo_HOykbn1p_"
      }
    },
    {
      "cell_type": "code",
      "source": [
        "some_tensor = torch.rand(3,4)"
      ],
      "metadata": {
        "id": "FpfOcp3tn2eh"
      },
      "execution_count": 36,
      "outputs": []
    },
    {
      "cell_type": "code",
      "source": [
        "some_tensor"
      ],
      "metadata": {
        "colab": {
          "base_uri": "https://localhost:8080/"
        },
        "id": "Y3F8phcZqOgR",
        "outputId": "cef8952f-c194-4d85-c394-0eccca048c59"
      },
      "execution_count": 37,
      "outputs": [
        {
          "output_type": "execute_result",
          "data": {
            "text/plain": [
              "tensor([[0.3876, 0.5868, 0.6333, 0.3833],\n",
              "        [0.3327, 0.0454, 0.5752, 0.0517],\n",
              "        [0.6395, 0.0920, 0.1964, 0.8405]])"
            ]
          },
          "metadata": {},
          "execution_count": 37
        }
      ]
    },
    {
      "cell_type": "markdown",
      "source": [
        "Finding out details about the tensors"
      ],
      "metadata": {
        "id": "HqBWltqaqVY_"
      }
    },
    {
      "cell_type": "code",
      "source": [
        "some_tensor.dtype"
      ],
      "metadata": {
        "colab": {
          "base_uri": "https://localhost:8080/"
        },
        "id": "OfUjds5AqPpB",
        "outputId": "38bd90da-3db2-4cf7-e581-f41c0ceefdac"
      },
      "execution_count": 38,
      "outputs": [
        {
          "output_type": "execute_result",
          "data": {
            "text/plain": [
              "torch.float32"
            ]
          },
          "metadata": {},
          "execution_count": 38
        }
      ]
    },
    {
      "cell_type": "code",
      "source": [
        "some_tensor.shape"
      ],
      "metadata": {
        "colab": {
          "base_uri": "https://localhost:8080/"
        },
        "id": "p2-r4SDVrOiO",
        "outputId": "9707e42e-23e2-4042-ccb5-4da9cba25eef"
      },
      "execution_count": 39,
      "outputs": [
        {
          "output_type": "execute_result",
          "data": {
            "text/plain": [
              "torch.Size([3, 4])"
            ]
          },
          "metadata": {},
          "execution_count": 39
        }
      ]
    },
    {
      "cell_type": "code",
      "source": [
        "some_tensor.device"
      ],
      "metadata": {
        "colab": {
          "base_uri": "https://localhost:8080/"
        },
        "id": "01ckFwAErQcY",
        "outputId": "03e1da44-e862-41d9-9673-4e3e74c8d757"
      },
      "execution_count": 40,
      "outputs": [
        {
          "output_type": "execute_result",
          "data": {
            "text/plain": [
              "device(type='cpu')"
            ]
          },
          "metadata": {},
          "execution_count": 40
        }
      ]
    },
    {
      "cell_type": "markdown",
      "source": [
        "Manipulation Tensors (Tensor operations)\n",
        "\n",
        "Tensor operations include:\n",
        "\n",
        "1. Addition\n",
        "\n",
        "2. Subtraction\n",
        "\n",
        "3. Multiplication (element wise)\n",
        "\n",
        "4. Division\n",
        "\n",
        "5. Matrix multiplication"
      ],
      "metadata": {
        "id": "I82DjK8Sr29l"
      }
    },
    {
      "cell_type": "code",
      "source": [
        "new_tensor= torch.tensor([1,2,3])\n",
        "new_tensor+10"
      ],
      "metadata": {
        "colab": {
          "base_uri": "https://localhost:8080/"
        },
        "id": "KuG6ee9ytUUs",
        "outputId": "78a9d0a1-f48d-4705-ac2d-d101f939fb16"
      },
      "execution_count": 41,
      "outputs": [
        {
          "output_type": "execute_result",
          "data": {
            "text/plain": [
              "tensor([11, 12, 13])"
            ]
          },
          "metadata": {},
          "execution_count": 41
        }
      ]
    },
    {
      "cell_type": "code",
      "source": [
        "new_tensor*10"
      ],
      "metadata": {
        "colab": {
          "base_uri": "https://localhost:8080/"
        },
        "id": "vJqC0ZErwZsy",
        "outputId": "40f79f3a-cb49-4fcf-83b2-dd47a861b524"
      },
      "execution_count": 42,
      "outputs": [
        {
          "output_type": "execute_result",
          "data": {
            "text/plain": [
              "tensor([10, 20, 30])"
            ]
          },
          "metadata": {},
          "execution_count": 42
        }
      ]
    },
    {
      "cell_type": "code",
      "source": [
        "new_tensor-10"
      ],
      "metadata": {
        "colab": {
          "base_uri": "https://localhost:8080/"
        },
        "id": "o_6GFQlhwgfP",
        "outputId": "60955bf2-49cf-4498-821a-4aee120ee80d"
      },
      "execution_count": 43,
      "outputs": [
        {
          "output_type": "execute_result",
          "data": {
            "text/plain": [
              "tensor([-9, -8, -7])"
            ]
          },
          "metadata": {},
          "execution_count": 43
        }
      ]
    },
    {
      "cell_type": "code",
      "source": [
        " #in built multipy function\n",
        " torch.mul(new_tensor,10)"
      ],
      "metadata": {
        "colab": {
          "base_uri": "https://localhost:8080/"
        },
        "id": "ChAWHH1pwwov",
        "outputId": "3dedbe83-c369-4140-b859-ea8c0d7dd5f1"
      },
      "execution_count": 44,
      "outputs": [
        {
          "output_type": "execute_result",
          "data": {
            "text/plain": [
              "tensor([10, 20, 30])"
            ]
          },
          "metadata": {},
          "execution_count": 44
        }
      ]
    },
    {
      "cell_type": "code",
      "source": [
        "torch.add(new_tensor,10)"
      ],
      "metadata": {
        "colab": {
          "base_uri": "https://localhost:8080/"
        },
        "id": "Ew-IeyJTxyDl",
        "outputId": "0698e3af-6cc9-48d6-fe01-5646b92fb58d"
      },
      "execution_count": 45,
      "outputs": [
        {
          "output_type": "execute_result",
          "data": {
            "text/plain": [
              "tensor([11, 12, 13])"
            ]
          },
          "metadata": {},
          "execution_count": 45
        }
      ]
    },
    {
      "cell_type": "markdown",
      "source": [
        "2 main ways of performing multiplication in neural network and deep learning\n",
        "\n",
        "1. Element wise multiplication\n",
        "\n",
        "2. Matrix multiplication\n",
        "\n",
        "There are two main rules that performing matrix mutliplication needs to satisfy:\n",
        "\n",
        "1. The inner dimensions must match\n",
        "\n",
        "  * (3,2) @ (2,3) wont work\n",
        "\n",
        "  * (2,3) @ (3,2) will work\n",
        "\n",
        "  * (3,2) @ (2,3) will work\n",
        "\n",
        "2. The resulting matrix have the shape of the outer matrix\n",
        "\n",
        "\n",
        "\n"
      ],
      "metadata": {
        "id": "x2k7f6BIngJQ"
      }
    },
    {
      "cell_type": "code",
      "source": [
        "#Element wise multiplication\n",
        "tensor = torch.tensor([2,3,4])\n",
        "tensor"
      ],
      "metadata": {
        "colab": {
          "base_uri": "https://localhost:8080/"
        },
        "id": "6IhqB4JMnlXd",
        "outputId": "a6926fb1-8ff5-4d5e-a893-c82798f9f7a2"
      },
      "execution_count": 46,
      "outputs": [
        {
          "output_type": "execute_result",
          "data": {
            "text/plain": [
              "tensor([2, 3, 4])"
            ]
          },
          "metadata": {},
          "execution_count": 46
        }
      ]
    },
    {
      "cell_type": "code",
      "source": [
        "element_wise_multiplicaton = tensor*tensor\n",
        "element_wise_multiplicaton"
      ],
      "metadata": {
        "colab": {
          "base_uri": "https://localhost:8080/"
        },
        "id": "25ssXwglpGqT",
        "outputId": "2a390ae6-50b2-431c-a729-abc9a9801cf5"
      },
      "execution_count": 47,
      "outputs": [
        {
          "output_type": "execute_result",
          "data": {
            "text/plain": [
              "tensor([ 4,  9, 16])"
            ]
          },
          "metadata": {},
          "execution_count": 47
        }
      ]
    },
    {
      "cell_type": "code",
      "source": [
        "matrix_wise_multiplication = torch.matmul(tensor,tensor)\n",
        "matrix_wise_multiplication"
      ],
      "metadata": {
        "colab": {
          "base_uri": "https://localhost:8080/"
        },
        "id": "huUwy32QqHTy",
        "outputId": "bd8d188a-075a-4037-fa67-2d6014e54c47"
      },
      "execution_count": 48,
      "outputs": [
        {
          "output_type": "execute_result",
          "data": {
            "text/plain": [
              "tensor(29)"
            ]
          },
          "metadata": {},
          "execution_count": 48
        }
      ]
    },
    {
      "cell_type": "code",
      "source": [
        "new_matrix= torch.mm(torch.rand(2,3),torch.rand(3,4)) #mm is same as matmul"
      ],
      "metadata": {
        "id": "Pvch3Qn_z032"
      },
      "execution_count": 49,
      "outputs": []
    },
    {
      "cell_type": "code",
      "source": [
        "new_matrix"
      ],
      "metadata": {
        "colab": {
          "base_uri": "https://localhost:8080/"
        },
        "id": "JKq4zFI20Eju",
        "outputId": "70d0d47e-9b9a-44d9-8fa3-488d57601333"
      },
      "execution_count": 50,
      "outputs": [
        {
          "output_type": "execute_result",
          "data": {
            "text/plain": [
              "tensor([[0.5965, 0.5801, 0.6037, 0.9344],\n",
              "        [0.3858, 0.5206, 0.4184, 0.6077]])"
            ]
          },
          "metadata": {},
          "execution_count": 50
        }
      ]
    },
    {
      "cell_type": "markdown",
      "source": [
        "One of the most common errors in deep learning: Shape errors\n",
        "\n",
        "To fix the tensor shape issues, we can manipulate the shape of one of our tensors using a transpose\n",
        "\n"
      ],
      "metadata": {
        "id": "Lek_vR_W0c4s"
      }
    },
    {
      "cell_type": "code",
      "source": [
        "tensor_A = torch.rand(3,4)\n",
        "tensor_A,tensor_A.shape"
      ],
      "metadata": {
        "colab": {
          "base_uri": "https://localhost:8080/"
        },
        "id": "D61jAaw_0hkL",
        "outputId": "90226a42-dd04-4eec-8bd4-51b89b9c48cd"
      },
      "execution_count": 51,
      "outputs": [
        {
          "output_type": "execute_result",
          "data": {
            "text/plain": [
              "(tensor([[0.9581, 0.4503, 0.2711, 0.4852],\n",
              "         [0.7348, 0.0759, 0.9254, 0.2380],\n",
              "         [0.0829, 0.3298, 0.5600, 0.8030]]),\n",
              " torch.Size([3, 4]))"
            ]
          },
          "metadata": {},
          "execution_count": 51
        }
      ]
    },
    {
      "cell_type": "code",
      "source": [
        "tensor_A.T,tensor_A.T.shape"
      ],
      "metadata": {
        "colab": {
          "base_uri": "https://localhost:8080/"
        },
        "id": "QbxQKrKp_mcB",
        "outputId": "cc02ab11-cbdc-467e-cb64-e51dc7f49843"
      },
      "execution_count": 52,
      "outputs": [
        {
          "output_type": "execute_result",
          "data": {
            "text/plain": [
              "(tensor([[0.9581, 0.7348, 0.0829],\n",
              "         [0.4503, 0.0759, 0.3298],\n",
              "         [0.2711, 0.9254, 0.5600],\n",
              "         [0.4852, 0.2380, 0.8030]]),\n",
              " torch.Size([4, 3]))"
            ]
          },
          "metadata": {},
          "execution_count": 52
        }
      ]
    },
    {
      "cell_type": "markdown",
      "source": [
        "LESSON 3"
      ],
      "metadata": {
        "id": "SyyQgN9fG4Qg"
      }
    },
    {
      "cell_type": "markdown",
      "source": [
        "TENSOR AGGREGATION\n",
        "\n",
        "Finding the min, max, mean, sum,etc"
      ],
      "metadata": {
        "id": "w1oXp2HqGj2B"
      }
    },
    {
      "cell_type": "code",
      "source": [
        "x = torch.arange(0,100,9)\n",
        "x"
      ],
      "metadata": {
        "colab": {
          "base_uri": "https://localhost:8080/"
        },
        "id": "h2KifaRQGu99",
        "outputId": "70b6f967-6661-44d9-faee-f1e620965ff1"
      },
      "execution_count": 53,
      "outputs": [
        {
          "output_type": "execute_result",
          "data": {
            "text/plain": [
              "tensor([ 0,  9, 18, 27, 36, 45, 54, 63, 72, 81, 90, 99])"
            ]
          },
          "metadata": {},
          "execution_count": 53
        }
      ]
    },
    {
      "cell_type": "code",
      "source": [
        "#Minimum\n",
        "torch.min(x)"
      ],
      "metadata": {
        "colab": {
          "base_uri": "https://localhost:8080/"
        },
        "id": "3VoNSO3bHLjF",
        "outputId": "df0eafed-0208-4117-9a82-bc59e9d69f0f"
      },
      "execution_count": 55,
      "outputs": [
        {
          "output_type": "execute_result",
          "data": {
            "text/plain": [
              "tensor(0)"
            ]
          },
          "metadata": {},
          "execution_count": 55
        }
      ]
    },
    {
      "cell_type": "code",
      "source": [
        "#Max\n",
        "torch.max(x)"
      ],
      "metadata": {
        "colab": {
          "base_uri": "https://localhost:8080/"
        },
        "id": "S-xaxm_ZHX27",
        "outputId": "61af5f25-c3f6-4cfa-dd13-05bd0a780921"
      },
      "execution_count": 57,
      "outputs": [
        {
          "output_type": "execute_result",
          "data": {
            "text/plain": [
              "tensor(99)"
            ]
          },
          "metadata": {},
          "execution_count": 57
        }
      ]
    },
    {
      "cell_type": "code",
      "source": [
        "#sum\n",
        "torch.sum(x),x.sum()"
      ],
      "metadata": {
        "colab": {
          "base_uri": "https://localhost:8080/"
        },
        "id": "jtZ5OIoaHce1",
        "outputId": "cf9dc2aa-29d1-4b0b-fd28-bb0ef5ed866d"
      },
      "execution_count": 68,
      "outputs": [
        {
          "output_type": "execute_result",
          "data": {
            "text/plain": [
              "(tensor(594), tensor(594))"
            ]
          },
          "metadata": {},
          "execution_count": 68
        }
      ]
    },
    {
      "cell_type": "code",
      "source": [
        "#mean\n",
        "\n",
        "#input dtype should be either floating point or complex dtypes but not long\n",
        "torch.mean(x.type(torch.float32)),(x.type(torch.float32)).mean()"
      ],
      "metadata": {
        "colab": {
          "base_uri": "https://localhost:8080/"
        },
        "id": "Uw6v_FVHHwJ0",
        "outputId": "285fd85d-0382-455b-bb19-dbe435244d61"
      },
      "execution_count": 70,
      "outputs": [
        {
          "output_type": "execute_result",
          "data": {
            "text/plain": [
              "(tensor(49.5000), tensor(49.5000))"
            ]
          },
          "metadata": {},
          "execution_count": 70
        }
      ]
    },
    {
      "cell_type": "markdown",
      "source": [
        "Finding the position of min and max"
      ],
      "metadata": {
        "id": "xKvQD6PJJcr7"
      }
    },
    {
      "cell_type": "code",
      "source": [
        "# position of minimum value\n",
        "x.argmin(),torch.argmin(x)"
      ],
      "metadata": {
        "colab": {
          "base_uri": "https://localhost:8080/"
        },
        "id": "uqnj47cWJ42Q",
        "outputId": "dee5c038-5a48-43b9-de01-3c0d484a5477"
      },
      "execution_count": 74,
      "outputs": [
        {
          "output_type": "execute_result",
          "data": {
            "text/plain": [
              "(tensor(0), tensor(0))"
            ]
          },
          "metadata": {},
          "execution_count": 74
        }
      ]
    },
    {
      "cell_type": "code",
      "source": [
        "#position of maximum value\n",
        "x.argmax(),torch.argmax(x)"
      ],
      "metadata": {
        "colab": {
          "base_uri": "https://localhost:8080/"
        },
        "id": "fiM8DyZ3J-mR",
        "outputId": "29bb1170-8b85-4383-f917-e4cab22d75a3"
      },
      "execution_count": 75,
      "outputs": [
        {
          "output_type": "execute_result",
          "data": {
            "text/plain": [
              "(tensor(11), tensor(11))"
            ]
          },
          "metadata": {},
          "execution_count": 75
        }
      ]
    }
  ]
}