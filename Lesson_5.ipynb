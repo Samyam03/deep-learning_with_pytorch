{
  "nbformat": 4,
  "nbformat_minor": 0,
  "metadata": {
    "colab": {
      "provenance": []
    },
    "kernelspec": {
      "name": "python3",
      "display_name": "Python 3"
    },
    "language_info": {
      "name": "python"
    }
  },
  "cells": [
    {
      "cell_type": "markdown",
      "source": [
        "Pytorch Workflow"
      ],
      "metadata": {
        "id": "vlEwpsTwnf2F"
      }
    },
    {
      "cell_type": "code",
      "source": [
        "import torch\n",
        "from torch import nn # nn contains all of Pytorch's building block for neural network\n",
        "import matplotlib.pyplot as plt\n",
        "\n",
        "torch.__version__"
      ],
      "metadata": {
        "colab": {
          "base_uri": "https://localhost:8080/",
          "height": 35
        },
        "id": "15vnptemnj8g",
        "outputId": "67c6fe63-4327-454b-ef90-56458a965261"
      },
      "execution_count": 1,
      "outputs": [
        {
          "output_type": "execute_result",
          "data": {
            "text/plain": [
              "'2.6.0+cu124'"
            ],
            "application/vnd.google.colaboratory.intrinsic+json": {
              "type": "string"
            }
          },
          "metadata": {},
          "execution_count": 1
        }
      ]
    },
    {
      "cell_type": "markdown",
      "source": [
        "Data preparing and loading\n",
        "\n",
        "\n",
        "---\n",
        "\n"
      ],
      "metadata": {
        "id": "-qaWpPXGoLL_"
      }
    },
    {
      "cell_type": "markdown",
      "source": [
        "Machine learning is game of two parts:\n",
        "1. Get data into a numerical representation\n",
        "2. Build a model to learn patterns in that numerical representation"
      ],
      "metadata": {
        "id": "xoS94f65qM0Q"
      }
    },
    {
      "cell_type": "markdown",
      "source": [
        "For this , we create known data using linear regression formula.\n",
        "\n",
        "Using linear regression formula, y=mx+c we make straight line with known parameters.\n",
        "\n",
        "\n",
        "---\n",
        "\n",
        "\n",
        "\n",
        "\n",
        "\n"
      ],
      "metadata": {
        "id": "KUSkafTEr578"
      }
    },
    {
      "cell_type": "markdown",
      "source": [
        "Creating a dataset with linear regression\n",
        "\n"
      ],
      "metadata": {
        "id": "tpfCvaawtiqp"
      }
    },
    {
      "cell_type": "code",
      "source": [
        "#creating known parameters\n",
        "weight =0.7\n",
        "bias = 0.3\n",
        "\n",
        "#creating\n",
        "start = 0\n",
        "end = 1\n",
        "\n",
        "step =0.02\n",
        "X= torch.arange(start,end,step).unsqueeze(dim=1)\n",
        "y= weight * X +bias\n",
        "X[:10],y[:10]"
      ],
      "metadata": {
        "colab": {
          "base_uri": "https://localhost:8080/"
        },
        "id": "uZ58mfgIr6VB",
        "outputId": "51227df5-e39e-469d-95c5-551bcdfb34eb"
      },
      "execution_count": 3,
      "outputs": [
        {
          "output_type": "execute_result",
          "data": {
            "text/plain": [
              "(tensor([[0.0000],\n",
              "         [0.0200],\n",
              "         [0.0400],\n",
              "         [0.0600],\n",
              "         [0.0800],\n",
              "         [0.1000],\n",
              "         [0.1200],\n",
              "         [0.1400],\n",
              "         [0.1600],\n",
              "         [0.1800]]),\n",
              " tensor([[0.3000],\n",
              "         [0.3140],\n",
              "         [0.3280],\n",
              "         [0.3420],\n",
              "         [0.3560],\n",
              "         [0.3700],\n",
              "         [0.3840],\n",
              "         [0.3980],\n",
              "         [0.4120],\n",
              "         [0.4260]]))"
            ]
          },
          "metadata": {},
          "execution_count": 3
        }
      ]
    }
  ]
}